{
 "cells": [
  {
   "cell_type": "markdown",
   "id": "88fc6409-fb03-4764-b765-26c25f8efd3f",
   "metadata": {},
   "source": [
    "## Desafio 1"
   ]
  },
  {
   "cell_type": "markdown",
   "id": "e655cfbb-eb7b-458d-9c67-413d1b399fa1",
   "metadata": {
    "tags": []
   },
   "source": [
    "### Motivação"
   ]
  },
  {
   "cell_type": "markdown",
   "id": "439e273e-5c66-4a2f-9ead-cc2b32135466",
   "metadata": {},
   "source": [
    "Glicerol (C3H8O3) é uma substância produzida como subproduto da síntese de biodiesel sendo em maior parte descartada em processos de purificação por não haver facilidade em usá-lo em combinação com outros compostos para a geração de energia em ciclos como o de Rankine. Por causa disso, encontramos uma mistura com dados suficientes na literatura para trabalharmos com essa substância, água e glicerol. Essa mistura é interessante para entrar no ciclo de Rankine por causa dos desafios que serão enfrentados para utilizá-la como combustível. Obviamente, H2O é uma molécula inerte e não sofre combustão, sua presença é para preencher o critério da mistura binária. Mais a frente, nosso objetivo é isolar o Glicerol e apenas usar ele na combustão. Glicerol em si é uma substância muito desconsiderada no âmbito de combustão e geração de energia térmica por ser uma substância com baixíssima volatilidade, e portanto sua evaporação e ebulição são distantes do padrão de outros combustíveis. No entanto, a equação da combustão completa do glicerol é relativamente limpa em comparação a outros compostos carbônicos, pois sua cadeia é bem menor que as que compõe a gasolina"
   ]
  },
  {
   "cell_type": "markdown",
   "id": "9c913f8d-2e57-480a-9ca0-45cbe977d5f4",
   "metadata": {},
   "source": [
    "### Dados(Entalpia e Diagrama de fase)\n",
    "\n",
    "\"Entalpia é uma grandeza termodinâmica que inclui tanto a energia interna de um sistema quanto o trabalho que o sistema pode realizar em seu ambiente externo.\"\n",
    "\n",
    "Como dito anteriormente, escolhemos a mistura binária de H2O e Glicerol para entrar gerar energia no ciclo de Rankine. Para analisar seu potencial de uso, podemos ter como base entalpia de combustão das duas subtâncias:\n",
    "\n",
    "Glicerol: **Entalpia padrão de combustão ΔcH · –1654.3 kJ/mol \"Wikipedia: Glycerol (data page)\"**\n",
    "\n",
    "H2O: **N/A** (reação inexistente)\n",
    "\n",
    "Com esse dado, podemos ver que existe um potencial uso do Glicerol como combustível para o ciclo de Rankine, considerando a quantidade de energia que se origina de sua combustão completa. A outra substância, H2O, já é totalmente oxidada, e portanto não pode sofrer combustão.\n",
    "\n",
    "Abaixo, o diagrama de fases de nossa mistura, estudada em ambiente isobárico de 8 atm:"
   ]
  },
  {
   "cell_type": "markdown",
   "id": "97e06060-8851-4473-9001-48ff237432c4",
   "metadata": {},
   "source": [
    "<dt><center>\n",
    "<img src=\"Diagrama de fase.png\" style=\"width:400px;height:300px\"/>\n",
    "</center>\n",
    "</dt>"
   ]
  },
  {
   "cell_type": "markdown",
   "id": "0dc2bdc7-f44a-4f4c-8b50-815b5fc76d84",
   "metadata": {},
   "source": [
    "*Nesse diagrama de fases isobárico, percebe-se que a fração molar de água e de glicerol na substância, quando variadas, nos são diferentes pontos de orvalho e de bolha. Em um extremo, quando a concentração de glicerol é máxima, percebe-se que a temperatura de ebulição e orvalho são os máximos. Esses valores decrescem logo que a água começa a ser adicionada, pois as interações de moléculas de glicerol, que garantem sua alta não-volatilidade, começam a ser interferidas pelas pequenas moléculas de água. Assim, quanto mais água no sistema, maior a volatilidade deste.*\n",
    "\n",
    "O diagrama de fases é importante pois com ele conseguimos fazer a separação da mistura, que será um passo fundamental deste projeto."
   ]
  },
  {
   "cell_type": "markdown",
   "id": "3602fb0f-1ce3-43af-b879-6dab5d8ed4af",
   "metadata": {
    "tags": []
   },
   "source": [
    "#### Referências:\n",
    "\n",
    "Schroeder (An Introduction to Thermal Physics)\n",
    "\n",
    "Vídeos do Curso de Termodinâmica Avançada  "
   ]
  },
  {
   "cell_type": "markdown",
   "id": "e4e9c49b-eded-4625-aefc-30789e86cd34",
   "metadata": {
    "tags": []
   },
   "source": [
    "## Peer-Review"
   ]
  },
  {
   "cell_type": "markdown",
   "id": "52a1d0f2-04d0-4544-babe-d65e0cea1e5f",
   "metadata": {
    "tags": []
   },
   "source": [
    "### Revisores:\n",
    "#### Alguns alunos da Ilum"
   ]
  },
  {
   "cell_type": "markdown",
   "id": "f93d3891-0f59-4351-8bd0-3c95fdbbe92a",
   "metadata": {},
   "source": [
    "### Motivação"
   ]
  },
  {
   "cell_type": "markdown",
   "id": "a367b1f7-7924-4ce8-a9a9-b871b779e5ca",
   "metadata": {},
   "source": [
    "- A mistura atende os pré-requisitos da atividade, apesar de que dada a entalpia de combustão, que varia com a possível proporção molar, poderia-se ter um baixo rendimento quando se trata de calor liberado pela reação de combustão.\n",
    "- A \"limpeza\" da reação não está relacionada com o tamanho das cadeias, mas sim na eficiência do processo e nas impurezas do combustível no pós combustão (subprodutos). Assim, como a reação completa não fica explícita, não se pode saber com certeza se a reação gera algum subproduto ou até a entalpia de combustão completa (mol x entalpia_formacao_produtos - mol x entalpia_formacao_reagentes). Nota-se que a entalpia de formação da água (líquida) é \"-285.83 kJ/mol\", de acordo com: https://webbook.nist.gov/cgi/cbook.cgi?ID=C7732185&Mask=2. Assim, a entalpia de combustão não está completa.\n",
    "- \"...por ser uma substância com baixíssima volatilidade...\" - O que significa ser de \"baixíssima volatilidade\"? No texto, não há comparação/definição explícita sobre \"baixíssimo\", então seria interessante quantificar essa análise."
   ]
  },
  {
   "cell_type": "markdown",
   "id": "0f218d1d-75ff-4dc9-99fa-c4484f4ec387",
   "metadata": {},
   "source": [
    "### Dados (Entalpia e Diagrama de Fase)"
   ]
  },
  {
   "cell_type": "markdown",
   "id": "8e3ceda8-b835-4e97-8251-0e9a5bfa43f3",
   "metadata": {},
   "source": [
    "- A citação não apresenta referência no texto.\n",
    "- No gráfico, não se tem uma legenda explicando o que significa certos elementos, como \"dew\" e \"bubble\". \n",
    "- \"...alta não-volatilidade...\" - Não há comparação do que é \"alta\" e \"baixa\" volatilidade."
   ]
  },
  {
   "cell_type": "markdown",
   "id": "a2402c78-681a-4b9a-b63a-004ed2a2c5d4",
   "metadata": {},
   "source": [
    "### Referências"
   ]
  },
  {
   "cell_type": "markdown",
   "id": "a2ad6e9d-8975-4a3c-bc09-00cd4428412b",
   "metadata": {},
   "source": [
    "- Poderia ter os links das referências diretamente, com o fim de facilitar o re-acesso e avaliação dos peers.\n",
    "- O gráfico de fases não tem referências.\n",
    "- Não há certeza da fonte da citação em \"Dados (Entalpia e Diagrama de Fase)\", uma vez que não há referência no texto.\n",
    "- Referência do diagrama de fase: \"White, Robert & Dupont, Valerie & Cockerill, Timothy. (2018). Thermodynamic modelling and energy balance of direct methanation of glycerol for Bio-SNG production. Energy Conversion and Management. 160. 10.1016/j.enconman.2018.01.031.\" (https://www.researchgate.net/figure/Vapour-phase-diagram-for-glycerol-water-mixtures-at-8-atm_fig5_322702593)."
   ]
  },
  {
   "cell_type": "markdown",
   "id": "32b1af24-e821-4b55-b697-ed68e00a53d8",
   "metadata": {},
   "source": [
    "### Plágio:\n",
    "- Verificamos plágio por meio do site: https://smallseotools.com/plagiarism-checker/ , recomendado pelo Pedro Sophia. De acordo com o site, não há plágio."
   ]
  },
  {
   "cell_type": "markdown",
   "id": "e01ae95d-9731-43b6-9450-fe6ddfbe7099",
   "metadata": {
    "tags": []
   },
   "source": [
    "### Observações\n",
    "- Seria interessante se o grupo já estivesse pensando sobre a proporção molar que será utilizada, uma vez o gráfico de fase varia com esses valores."
   ]
  },
  {
   "cell_type": "code",
   "execution_count": null,
   "id": "c3017c3f-a3ed-40d8-923e-97560836dce3",
   "metadata": {},
   "outputs": [],
   "source": []
  }
 ],
 "metadata": {
  "kernelspec": {
   "display_name": "ilumpy",
   "language": "python",
   "name": "ilumpy"
  },
  "language_info": {
   "codemirror_mode": {
    "name": "ipython",
    "version": 3
   },
   "file_extension": ".py",
   "mimetype": "text/x-python",
   "name": "python",
   "nbconvert_exporter": "python",
   "pygments_lexer": "ipython3",
   "version": "3.9.7"
  }
 },
 "nbformat": 4,
 "nbformat_minor": 5
}
