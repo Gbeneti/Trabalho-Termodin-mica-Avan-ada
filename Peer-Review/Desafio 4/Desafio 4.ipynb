{
 "cells": [
  {
   "cell_type": "markdown",
   "id": "df77f4a0-601f-4276-a7e0-b56dfdad0a36",
   "metadata": {},
   "source": [
    "<h1 style='text-align: center'> Termodinâmica Avançada - Desafio 3 <br> Ilum - Escola de Ciência </h1>"
   ]
  },
  {
   "cell_type": "markdown",
   "id": "34395ba0-d041-4d34-8708-ae116a7c7230",
   "metadata": {},
   "source": [
    "<h3> Professor Amauri Jardim de Paula </h3>"
   ]
  },
  {
   "cell_type": "markdown",
   "id": "c63debd1-c42c-4f50-b543-af6322a3ffa6",
   "metadata": {
    "tags": []
   },
   "source": [
    "<h2> Introdução </h2>\n",
    "\n",
    "<p style='text-align: justify'> Dando continuidade a solução do problema, o quarto desafio deste trabalho envolve obter a operação do Ciclo de Rankine pela energia de combustão que obtivemos no Desafio 3, calculado pela variação da energia livre de Gibbs. Para podermos trabalhar nesse ponto, devemos utilizar condições de funcionamento do Ciclo de Rankine para um caso ideal, calculando a eficiência do ciclo por valores de entalpia para água em estado de vapor. Além disso consideraremos outro tipo de ciclo, o qual se encaixa no modelo de Carnot, comparando a eficiência entre os dois ciclos de maneira teórica. </p>\n",
    "\n",
    "<p style='text-align: justify'> Utilizando como referência o capítulo 4 do livro <a href='An Introduction to Thermal Physics by Daniel V. Schroeder (z-lib.org).pdf'>\"An Introduction to Thermal Physics\"</a>, de Daniel Schroeder, podemos, aqui, discutir sobre o comportamento de máquinas térmicas. </p>"
   ]
  },
  {
   "cell_type": "markdown",
   "id": "de8de194-59c3-4a29-914c-5ee54c8dbc81",
   "metadata": {},
   "source": [
    "<hr>"
   ]
  },
  {
   "cell_type": "markdown",
   "id": "de1c226f-9b1d-4bbc-bba2-e8d7ab0db6e8",
   "metadata": {},
   "source": [
    "## Análise do Problema"
   ]
  },
  {
   "cell_type": "markdown",
   "id": "f5c794f8-2822-4d19-9be7-7d57c5d7d08e",
   "metadata": {},
   "source": [
    "<h2> O que é o Ciclo de Rankine? </h2>\n",
    "\n",
    "<p style='text-align: justify'> O ciclo de vapor de Rankine é um processo termodinâmico que converte calor em trabalho, podendo ser reversível ou não. Esse calor é fornecido por uma fonte externa, operando a partir de um fluido dentro de uma caldeira, sendo assim um tipo de motor movido a vapor, que é expandido por uma turbina que produz trabalho. Essa propriedade termodinâmica de vapor foi difundida no século 19 pelo físico escocês William Johnson M. Rankine, que estudava essas propriedades de forma que o ciclo pudesse ser esquematizado em um diagrama que descreve, graficamente, o processo de conversão. </p>\n",
    "\n",
    "<p style='text-align: justify'> Esse diagrama pode ser gerado em função das variações de temperatura e de entropia do sistema. A partir dele, podemos claramente ver 4 estágios de processos, indo de um ponto a outro de meneira cíclica. Abaixo temos descritos os processos de um ciclo ideal: </p>\n",
    "\n",
    "<ul>\n",
    "    <li> Processo 1-2: compressão isentrópica </li>\n",
    "    <li> Processo 2-3: adição de calor a pressão constante na caldeira </li>\n",
    "    <li> Processo 3-4: expansão isentrópica </li>\n",
    "    <li> Processo 4-1: rejeição de calor a pressão constante no condensador </li>\n",
    "</ul>\n",
    "\n",
    "<p style='text-align: justify'> Em um ciclo ideal, a bomba e a turbina do motor não geram entropia, por isso os processos de compressão e expansão são isentrópicos, o que significa que esses processos são demonstrados como linhas verticais no diagrama de temperatura por entropia. </p>\n",
    "\n",
    "<p style='text-align: justify'> Desta forma, demonstramos a seguir o diagrama do ciclo de Rankine ideal usando dados tabelados para água. Porém, antes de chegarmos lá, precisamos passar por um processo de calcular a eficiência do nosso ciclo através dos dados tabelados que obtivemos do National Institute of Standards and Technology <a href='https://webbook.nist.gov/chemistry/name-ser/'> [2] </a>.</p>"
   ]
  },
  {
   "cell_type": "markdown",
   "id": "66bdef5a-f596-4078-a856-64b10dac2790",
   "metadata": {},
   "source": [
    "## Imports e Constantes"
   ]
  },
  {
   "cell_type": "markdown",
   "id": "f51c1d7d-0cf9-49ea-8856-684c0389b75a",
   "metadata": {
    "tags": []
   },
   "source": [
    "<p style='text-align: justify'> Comecemos por importar bibliotecas necessárias para o nosso cálculo, bem como as constantes para definir as cores representação que teremos em nosso diagrama de Temperatura por Entropia. </p>"
   ]
  },
  {
   "cell_type": "markdown",
   "id": "9aefb03d-0bef-4844-88a9-1001fa1f84bc",
   "metadata": {},
   "source": [
    "<b> </b>"
   ]
  },
  {
   "cell_type": "code",
   "execution_count": 1,
   "id": "0e144690-068b-4ad5-abb3-b6d5e28adc08",
   "metadata": {},
   "outputs": [],
   "source": [
    "import matplotlib.pyplot as plt\n",
    "from scipy.integrate import simpson\n",
    "from numpy import diff, sqrt\n",
    "import pandas as pd\n",
    "\n",
    "entropy_color = '#eaed1f'        # amarelo\n",
    "cycle_color = '#ff1900'          # vermelho\n",
    "eff_color = '#298514'            # verde \n",
    "max_eff_color = '#020fc9'        # azul\n",
    "eff_alcancada_color = '#ff1900'  # vermelho"
   ]
  },
  {
   "cell_type": "markdown",
   "id": "cccd1200-ba45-4607-864d-13b6704029a6",
   "metadata": {},
   "source": [
    "## Lendo os Dados"
   ]
  },
  {
   "cell_type": "markdown",
   "id": "4d3d4ef0-e3df-43f3-893a-f4faca461282",
   "metadata": {},
   "source": [
    "<p style='text-align: justify'> Após os imports, vamos definir o DataFrame com o qual vamos trabalhar, uma vez que temos os dados tabelados presentes no arquivo de texto chamado 'fluid_precise.txt', o qual foi retirado do <a href='https://webbook.nist.gov/chemistry/name-ser/'> Chemistry WebBook </a>, do NIST, em um banco de dados sobre propriedades termodinâmicas de sistemas fluidos <a href='https://webbook.nist.gov/chemistry/fluid/'> [3] </a>. </p>\n",
    "\n",
    "<p style='text-align: justify'> Entretanto, como não necessitamos de todas as informações contidas nesse DataFrame, um novo foi criado selecionando apenas as colunas relevantes, chamado 'df'. Além disso, define-se a coluna 'Temperature (K)' como índice e cada coluna do DataFrame df é convertida para valores numéricos. </p>"
   ]
  },
  {
   "cell_type": "markdown",
   "id": "369e4459-690b-4051-87bc-76ba6b0c1f92",
   "metadata": {},
   "source": [
    "<b> </b>"
   ]
  },
  {
   "cell_type": "code",
   "execution_count": 2,
   "id": "b3dc9203-64c2-4dec-ad8b-fe4099eeef19",
   "metadata": {},
   "outputs": [
    {
     "data": {
      "text/html": [
       "<div>\n",
       "<style scoped>\n",
       "    .dataframe tbody tr th:only-of-type {\n",
       "        vertical-align: middle;\n",
       "    }\n",
       "\n",
       "    .dataframe tbody tr th {\n",
       "        vertical-align: top;\n",
       "    }\n",
       "\n",
       "    .dataframe thead th {\n",
       "        text-align: right;\n",
       "    }\n",
       "</style>\n",
       "<table border=\"1\" class=\"dataframe\">\n",
       "  <thead>\n",
       "    <tr style=\"text-align: right;\">\n",
       "      <th></th>\n",
       "      <th>Entropy (l, J/mol*K)</th>\n",
       "      <th>Entropy (v, J/mol*K)</th>\n",
       "      <th>Enthalpy (l, kJ/mol)</th>\n",
       "      <th>Enthalpy (v, kJ/mol)</th>\n",
       "      <th>Cv (l, J/mol*K)</th>\n",
       "      <th>Cp (l, J/mol*K)</th>\n",
       "      <th>Cv (v, J/mol*K)</th>\n",
       "      <th>Cp (v, J/mol*K)</th>\n",
       "    </tr>\n",
       "    <tr>\n",
       "      <th>Temperature (K)</th>\n",
       "      <th></th>\n",
       "      <th></th>\n",
       "      <th></th>\n",
       "      <th></th>\n",
       "      <th></th>\n",
       "      <th></th>\n",
       "      <th></th>\n",
       "      <th></th>\n",
       "    </tr>\n",
       "  </thead>\n",
       "  <tbody>\n",
       "    <tr>\n",
       "      <th>273.160000</th>\n",
       "      <td>-5.316945e-12</td>\n",
       "      <td>164.938667</td>\n",
       "      <td>0.000011</td>\n",
       "      <td>45.054657</td>\n",
       "      <td>75.978165</td>\n",
       "      <td>76.022837</td>\n",
       "      <td>25.552562</td>\n",
       "      <td>33.947107</td>\n",
       "    </tr>\n",
       "    <tr>\n",
       "      <th>273.783227</th>\n",
       "      <td>1.732082e-01</td>\n",
       "      <td>164.638636</td>\n",
       "      <td>0.047379</td>\n",
       "      <td>45.075255</td>\n",
       "      <td>75.953412</td>\n",
       "      <td>75.984753</td>\n",
       "      <td>25.561846</td>\n",
       "      <td>33.958238</td>\n",
       "    </tr>\n",
       "    <tr>\n",
       "      <th>274.406453</th>\n",
       "      <td>3.459380e-01</td>\n",
       "      <td>164.340344</td>\n",
       "      <td>0.094724</td>\n",
       "      <td>45.095847</td>\n",
       "      <td>75.927912</td>\n",
       "      <td>75.948422</td>\n",
       "      <td>25.571176</td>\n",
       "      <td>33.969442</td>\n",
       "    </tr>\n",
       "    <tr>\n",
       "      <th>275.029680</th>\n",
       "      <td>5.181954e-01</td>\n",
       "      <td>164.043777</td>\n",
       "      <td>0.142047</td>\n",
       "      <td>45.116435</td>\n",
       "      <td>75.901686</td>\n",
       "      <td>75.913760</td>\n",
       "      <td>25.580552</td>\n",
       "      <td>33.980717</td>\n",
       "    </tr>\n",
       "    <tr>\n",
       "      <th>275.652907</th>\n",
       "      <td>6.899863e-01</td>\n",
       "      <td>163.748922</td>\n",
       "      <td>0.189348</td>\n",
       "      <td>45.137018</td>\n",
       "      <td>75.874755</td>\n",
       "      <td>75.880687</td>\n",
       "      <td>25.589972</td>\n",
       "      <td>33.992061</td>\n",
       "    </tr>\n",
       "    <tr>\n",
       "      <th>...</th>\n",
       "      <td>...</td>\n",
       "      <td>...</td>\n",
       "      <td>...</td>\n",
       "      <td>...</td>\n",
       "      <td>...</td>\n",
       "      <td>...</td>\n",
       "      <td>...</td>\n",
       "      <td>...</td>\n",
       "    </tr>\n",
       "    <tr>\n",
       "      <th>643.979867</th>\n",
       "      <td>7.450496e+01</td>\n",
       "      <td>85.868579</td>\n",
       "      <td>34.353853</td>\n",
       "      <td>41.671794</td>\n",
       "      <td>71.179252</td>\n",
       "      <td>1053.505736</td>\n",
       "      <td>84.192176</td>\n",
       "      <td>2241.669299</td>\n",
       "    </tr>\n",
       "    <tr>\n",
       "      <th>644.603093</th>\n",
       "      <td>7.488735e+01</td>\n",
       "      <td>85.326484</td>\n",
       "      <td>34.606801</td>\n",
       "      <td>41.335899</td>\n",
       "      <td>73.282951</td>\n",
       "      <td>1365.658336</td>\n",
       "      <td>86.026110</td>\n",
       "      <td>2854.610738</td>\n",
       "    </tr>\n",
       "    <tr>\n",
       "      <th>645.226320</th>\n",
       "      <td>7.533692e+01</td>\n",
       "      <td>84.695283</td>\n",
       "      <td>34.903525</td>\n",
       "      <td>40.941788</td>\n",
       "      <td>76.329448</td>\n",
       "      <td>1931.977935</td>\n",
       "      <td>88.388936</td>\n",
       "      <td>3902.176286</td>\n",
       "    </tr>\n",
       "    <tr>\n",
       "      <th>645.849547</th>\n",
       "      <td>7.589254e+01</td>\n",
       "      <td>83.924914</td>\n",
       "      <td>35.269249</td>\n",
       "      <td>40.456955</td>\n",
       "      <td>81.159949</td>\n",
       "      <td>3158.966749</td>\n",
       "      <td>91.674407</td>\n",
       "      <td>6046.605486</td>\n",
       "    </tr>\n",
       "    <tr>\n",
       "      <th>646.472773</th>\n",
       "      <td>7.664363e+01</td>\n",
       "      <td>82.884300</td>\n",
       "      <td>35.761983</td>\n",
       "      <td>39.796407</td>\n",
       "      <td>89.846820</td>\n",
       "      <td>7195.193614</td>\n",
       "      <td>97.125026</td>\n",
       "      <td>12641.244273</td>\n",
       "    </tr>\n",
       "  </tbody>\n",
       "</table>\n",
       "<p>600 rows × 8 columns</p>\n",
       "</div>"
      ],
      "text/plain": [
       "                 Entropy (l, J/mol*K)  Entropy (v, J/mol*K)  \\\n",
       "Temperature (K)                                               \n",
       "273.160000              -5.316945e-12            164.938667   \n",
       "273.783227               1.732082e-01            164.638636   \n",
       "274.406453               3.459380e-01            164.340344   \n",
       "275.029680               5.181954e-01            164.043777   \n",
       "275.652907               6.899863e-01            163.748922   \n",
       "...                               ...                   ...   \n",
       "643.979867               7.450496e+01             85.868579   \n",
       "644.603093               7.488735e+01             85.326484   \n",
       "645.226320               7.533692e+01             84.695283   \n",
       "645.849547               7.589254e+01             83.924914   \n",
       "646.472773               7.664363e+01             82.884300   \n",
       "\n",
       "                 Enthalpy (l, kJ/mol)  Enthalpy (v, kJ/mol)  Cv (l, J/mol*K)  \\\n",
       "Temperature (K)                                                                \n",
       "273.160000                   0.000011             45.054657        75.978165   \n",
       "273.783227                   0.047379             45.075255        75.953412   \n",
       "274.406453                   0.094724             45.095847        75.927912   \n",
       "275.029680                   0.142047             45.116435        75.901686   \n",
       "275.652907                   0.189348             45.137018        75.874755   \n",
       "...                               ...                   ...              ...   \n",
       "643.979867                  34.353853             41.671794        71.179252   \n",
       "644.603093                  34.606801             41.335899        73.282951   \n",
       "645.226320                  34.903525             40.941788        76.329448   \n",
       "645.849547                  35.269249             40.456955        81.159949   \n",
       "646.472773                  35.761983             39.796407        89.846820   \n",
       "\n",
       "                 Cp (l, J/mol*K)  Cv (v, J/mol*K)  Cp (v, J/mol*K)  \n",
       "Temperature (K)                                                     \n",
       "273.160000             76.022837        25.552562        33.947107  \n",
       "273.783227             75.984753        25.561846        33.958238  \n",
       "274.406453             75.948422        25.571176        33.969442  \n",
       "275.029680             75.913760        25.580552        33.980717  \n",
       "275.652907             75.880687        25.589972        33.992061  \n",
       "...                          ...              ...              ...  \n",
       "643.979867           1053.505736        84.192176      2241.669299  \n",
       "644.603093           1365.658336        86.026110      2854.610738  \n",
       "645.226320           1931.977935        88.388936      3902.176286  \n",
       "645.849547           3158.966749        91.674407      6046.605486  \n",
       "646.472773           7195.193614        97.125026     12641.244273  \n",
       "\n",
       "[600 rows x 8 columns]"
      ]
     },
     "execution_count": 2,
     "metadata": {},
     "output_type": "execute_result"
    }
   ],
   "source": [
    "df_old = pd.read_csv('fluid_precise.txt', sep='\\t')\n",
    "df = df_old[\n",
    "    [\n",
    "        'Temperature (K)',\n",
    "        'Entropy (l, J/mol*K)',\n",
    "        'Entropy (v, J/mol*K)',\n",
    "        'Enthalpy (l, kJ/mol)',\n",
    "        'Enthalpy (v, kJ/mol)',\n",
    "        'Cv (l, J/mol*K)',\n",
    "        'Cp (l, J/mol*K)',\n",
    "        'Cv (v, J/mol*K)',\n",
    "        'Cp (v, J/mol*K)'\n",
    "    ]\n",
    "].copy().set_index('Temperature (K)').drop(647.096000)\n",
    "df.index = pd.to_numeric(df.index)\n",
    "\n",
    "for col in df:\n",
    "    df[col] = pd.to_numeric(df[col])\n",
    "\n",
    "df"
   ]
  },
  {
   "cell_type": "markdown",
   "id": "63f496fc-8209-4ac6-a4cd-7f82a5bab3ff",
   "metadata": {},
   "source": [
    "## Calculando a temperatura máxima de aquecimento do sistema"
   ]
  },
  {
   "cell_type": "markdown",
   "id": "19083b56-705f-42d7-9727-bff39c76bc62",
   "metadata": {},
   "source": [
    "<p style='text-align: justify'> Diante disso, usando os dados tabelados do nosso DataFrame `df`, fizemos os nossos cálculos necessárioa para obtermos a eficiência do ciclo de Rankine para o nosso sistema de fluidos, tanto para a Acetona quanto para o Etanol. </p>\n",
    "\n",
    "<p style='text-align: justify'> As funções a seguir trabalham em conjunto para calcular a temperatura máxima alcançável em um sistema de aquecimento de água através da queima dos nossos combustíveis combustíveis, Acetona e Etanol. </p>"
   ]
  },
  {
   "cell_type": "markdown",
   "id": "d5f5dd30-51bc-4fcc-8167-03dbeff1a27e",
   "metadata": {},
   "source": [
    "<b> </b>"
   ]
  },
  {
   "cell_type": "code",
   "execution_count": 3,
   "id": "478fdd4b-3701-43d6-9973-1107a8b8fdc1",
   "metadata": {
    "tags": []
   },
   "outputs": [],
   "source": [
    "# Conversão de gramas para mol para Acetona, Etanol e Água\n",
    "def g_mol(g, com):\n",
    "    \"\"\"Recebe uma quantidade em gramas e o nome de um composto e converte para mol.\n",
    "    \n",
    "    Args:\n",
    "        g: a massa do composto, em gramas.\n",
    "        com: o nome do composto. Ele é usado para determinar o fator de conversão correto de gramas para mol\n",
    "    \n",
    "    Returns:\n",
    "        A quantidade em mol do composto especificado\n",
    "    \"\"\"\n",
    "    assert com.lower() in ['acetona', 'etanol', 'acetone', 'ethanol', 'agua', 'água', 'water'], 'Composto inválido! Deve ser Acetona, Etanol ou Água (pt/en)'\n",
    "    \n",
    "    if com.lower() in ['acetona', 'acetone']: return g / 58.08\n",
    "    elif com.lower() in ['etanol', 'ethanol']: return g / 46.08\n",
    "    else: return g / 18.01528\n",
    "\n",
    "# Energia liberada na combustão de água ou etanol\n",
    "def energia_comb(g, com):\n",
    "    \"\"\" Recebe uma quantidade em gramas e o nome de um composto e calcula a energia liberada na combustão desse composto.\n",
    "    \n",
    "    Args:\n",
    "        g: a massa do composto, em gramas.\n",
    "        com: o nome do composto. Ele é usado para determinar o fator de conversão correto de gramas para mol\n",
    "        \n",
    "    Returns:\n",
    "        A energia liberada em joules.\n",
    "    \"\"\"\n",
    "    mol = g_mol(g, com)\n",
    "    \n",
    "    if com.lower() in ['acetona', 'acetone']: return mol * 1784478.96825\n",
    "    else: return mol * 1358712.406875\n",
    "\n",
    "# Pega a temperatura mais próxima da passada no dataframe (auxiliar par loops)\n",
    "def get_closest_temp(temp_to_know):\n",
    "    \"\"\" Uma temperatura em Kelvin e retorna a temperatura mais próxima dessa no DataFrame.\n",
    "    \n",
    "    Args:\n",
    "        temp_to_know: a temperatura (em Kelvin) para a qual se deseja encontrar o valor mais próximo no índice do DataFrame.\n",
    "    \n",
    "    Returns:\n",
    "        A temperatura correspondente ao índice que correspondente à menor diferença absoluta calculada entre cada valor no índice e o valor de temperatura fornecido.\n",
    "    \"\"\"\n",
    "    line = abs(df.index-temp_to_know).argsort()[:1]\n",
    "    closest_df = df.iloc[line].index \n",
    "    return list(closest_df)[0]\n",
    "\n",
    "# Energia necessária para aumentar uma quantidade de gramas de água de uma t_inicial a uma t_final\n",
    "def check_energia_aumentar_t_liquido(m_agua, tf, t0):\n",
    "    \"\"\" Obterm as temperaturas mais próximas das recebidas no DataFrame, pega os valores de Cv correspondentes e utiliza a função simpson do 'scipy' \n",
    "        para intergrar a o cálculo da multiplicação entre as temperaturas e os calores específicos (Cv).\n",
    "    \n",
    "    Args:\n",
    "        m_agua: a massa de água (em gramas) presente no sistema.\n",
    "        tf: a temperatura (em Kelvin) final para a qual se deseja aumentar a temperatura do líquido.\n",
    "        t0: a temperatura (em Kelvin) inicial do líquido.\n",
    "    \n",
    "    Returns:\n",
    "        A energia necessária em joules para elevar a temperatura da água.\n",
    "    \"\"\"\n",
    "    tf = get_closest_temp(tf)\n",
    "    t0 = get_closest_temp(t0)\n",
    "    mol_agua = g_mol(m_agua, 'agua')\n",
    "    \n",
    "    selecionadas = (t0 <= df.index) & (df.index <= tf)\n",
    "    calores = df.iloc[selecionadas]['Cv (l, J/mol*K)'].values\n",
    "    temps = df.iloc[selecionadas].index.values\n",
    "    return mol_agua * simpson(calores * temps)\n",
    "\n",
    "# Energia necessária para evaporar uma quantidade de gramas de água a determinada temperatura\n",
    "def check_energia_evap(m_agua, t):\n",
    "    \"\"\" Calcula a quantidade em mol de água utilizando a função 'g_mol' para obter o valor do calor específico (Cp) correspondente a temperatura mais próxima \n",
    "        encontrada para a fase de vapor no DataFrame.\n",
    "    \n",
    "    Args:\n",
    "        m_agua: a massa de água (em gramas) presente no sistema.\n",
    "        t: a temperatura (em Kelvin) para a qual se deseja calcular a energia necessária para evaporar a quantidade de água.\n",
    "    \n",
    "    Returns:\n",
    "        A energia necessária em joules para evaporar a quantidade de água.\n",
    "    \"\"\"\n",
    "    t = get_closest_temp(t)\n",
    "    mol_agua = g_mol(m_agua, 'agua')\n",
    "    \n",
    "    calor = df.iloc[df.index == t]['Cp (v, J/mol*K)'].values[0]\n",
    "    return mol_agua * calor * t\n",
    "\n",
    "# Temperatura máxima que pode-se atingir na água (elevar e evaporar) com tantos gramas de um composto na combustão\n",
    "def temp_max(m_agua, m_com, com, t0, verbose=False, tf=None):\n",
    "    \"\"\" Calcula a temperatura máxima que pode ser alcançada pela água ao ser aquecida pela queima de um determinado combustível.\n",
    "    \n",
    "    Args:\n",
    "        m_agua: a massa de água (em gramas) presente no sistema.\n",
    "        m_com: a massa do combustível (em gramas) que será queimado.\n",
    "        com: o tipo de combustível utilizado. Deve ser um dos seguintes: 'acetona', 'etanol', 'acetone' ou 'ethanol'.\n",
    "        t0: a temperatura inicial (em Kelvin) da água.\n",
    "        verbose: um parâmetro opcional que indica se deseja imprimir informações detalhadas durante o cálculo. O valor padrão é False.\n",
    "        tf: um parâmetro opcional que define a temperatura final (em Kelvin) até a qual o cálculo será realizado. \n",
    "            Se não for especificado, a temperatura final será definida como a maior temperatura presente no conjunto de dados.\n",
    "            \n",
    "    Returns:\n",
    "        Uma tupla contendo a temperatura anterior, a energia necessária para elevar a temp. anterior (e_el_anterior), a energia necessária para a evaporação completa da água (e_ev_anterior), \n",
    "        a energia total necessária para atingir a temp. anterior (e_t_anterior) e energia liberada pela combustão do combustível(energia_liberada).\n",
    "    \"\"\"\n",
    "    if tf == None:\n",
    "        tf = max(list(df.index.values))\n",
    "    \n",
    "    energia_liberada = energia_comb(m_com, com)\n",
    "    tf = get_closest_temp(tf)\n",
    "    t0 = get_closest_temp(t0)\n",
    "    \n",
    "    selecionadas = (t0 <= df.index) & (df.index <= tf)\n",
    "    temperaturas = df.iloc[selecionadas].index.values\n",
    "    \n",
    "    temp_anterior = t0\n",
    "    e_el_anterior = None\n",
    "    e_ev_anterior = None\n",
    "    e_t_anterior = None\n",
    "    for temp in temperaturas:\n",
    "        energia_para_elevar = check_energia_aumentar_t_liquido(m_agua, temp, t0)\n",
    "        energia_para_evap = check_energia_evap(m_agua, temp)\n",
    "        energia_total = energia_para_elevar + energia_para_evap\n",
    "        \n",
    "        if verbose:\n",
    "            print(f'Liberada: {energia_liberada}')\n",
    "            print(f'Elevar: {energia_para_elevar}')\n",
    "            print(f'Evap: {energia_para_evap}')\n",
    "            print(f'Total: {energia_total}')\n",
    "            print(f'Diff: {energia_liberada - energia_total}')\n",
    "            print()\n",
    "        \n",
    "        if energia_liberada - energia_total <= 0: return temp_anterior, e_el_anterior, e_ev_anterior, e_t_anterior, energia_liberada\n",
    "        \n",
    "        temp_anterior = temp\n",
    "        e_el_anterior = energia_para_elevar\n",
    "        e_ev_anterior = energia_para_evap\n",
    "        e_t_anterior = energia_total\n",
    "    return temp_anterior, e_el_anterior, e_ev_anterior, e_t_anterior, energia_liberada"
   ]
  },
  {
   "cell_type": "markdown",
   "id": "60760242-3cea-4a1c-8c49-c568110dfdf3",
   "metadata": {},
   "source": [
    "## Calculando a eficiência do ciclo de Rankine e plotando o diagrama"
   ]
  },
  {
   "cell_type": "markdown",
   "id": "880ac4ef-89ee-4452-b5bf-10bdbd989010",
   "metadata": {},
   "source": [
    "<p style='text-align: justify'> As funções abaixo trabalham em conjunto para plotar gráficos relacionados ao ciclo de Rankine, incluindo o gráfico de entropia, o gráfico de eficiência e a adição de setas para indicar a direção do ciclo. </p>"
   ]
  },
  {
   "cell_type": "markdown",
   "id": "015bccda-250f-4eb8-bf52-6198e0a6f46c",
   "metadata": {},
   "source": [
    "<b> </b>"
   ]
  },
  {
   "cell_type": "code",
   "execution_count": 4,
   "id": "c8e109d8-31da-4493-8cfe-c2f911565127",
   "metadata": {},
   "outputs": [],
   "source": [
    "# Adicionar setas a um conjunto de dados\n",
    "def add_arrows(ax, x, y):\n",
    "    \"\"\" Ela calcula as diferenças (u e v) entre os valores consecutivos de x e y, determina a posição média entre os pontos e normaliza as diferenças,\n",
    "        adicionando setas a um gráfico usando a função 'quiver' do Matplotlib.\n",
    "    \n",
    "    Args:\n",
    "        ax: o objeto do eixo do gráfico onde as setas serão adicionadas.\n",
    "        x: uma lista ou array contendo os valores das coordenadas x dos pontos.\n",
    "        y: uma lista ou array contendo os valores das coordenadas y dos pontos.\n",
    "    \n",
    "    Returns:\n",
    "        Setas no gráfico, representando a direção e magnitude das diferenças entre os pontos consecutivos nos eixos x e y\n",
    "    \"\"\"\n",
    "    u = diff(x)\n",
    "    v = diff(y)\n",
    "    \n",
    "    pos_x = x[:-1] + u/2\n",
    "    pos_y = y[:-1] + v/2\n",
    "    \n",
    "    norm = sqrt(u**2+v**2) \n",
    "    \n",
    "    ax.quiver(pos_x, pos_y, u/norm, v/norm, angles=\"xy\", zorder=2, pivot=\"mid\", color=cycle_color)\n",
    "\n",
    "# Plot do gráfico da entropia da água com o ciclo de rankine\n",
    "def plot_rankine(ax, t0, tf, h_buff=.15, anot_buff=3):\n",
    "    \"\"\" Plota o gráfico da entropia em relação à temperatura, marcando os pontos do ciclo assim como as setas que indicam sua direção.\n",
    "    \n",
    "    Args:\n",
    "        ax: o objeto do eixo do gráfico onde o gráfico será plotado. Isso permite que você especifique em qual subplot ou figura o gráfico será desenhado\n",
    "        t0: a temperatura inicial desejada para o ciclo de Rankine.\n",
    "        tf: a temperatura final desejada para o ciclo de Rankine.\n",
    "        h_buff: um fator de ajuste para controlar a distância vertical entre os pontos 2 e 2' no gráfico de valor padrão 0.15.\n",
    "        anot_butt: um fator de ajuste para controlar a distância horizontal e vertical dos rótulos dos pontos no gráfico de valor padrão 3.\n",
    "    \n",
    "    Returns:\n",
    "        O diagrama T-S da água com o ciclo de Rankine.\n",
    "    \"\"\"\n",
    "    t0 = get_closest_temp(t0)\n",
    "    tf = get_closest_temp(tf)\n",
    "    \n",
    "    entropies = list(df['Entropy (l, J/mol*K)']) + list(df['Entropy (v, J/mol*K)'])\n",
    "    temps = list(df.index) + list(df.index)\n",
    "\n",
    "    df_entropy = pd.DataFrame(temps, index=entropies, columns=['Temperature (K)']).sort_index()\n",
    "    ax.plot(df_entropy.index, df_entropy['Temperature (K)'], color=entropy_color)\n",
    "    \n",
    "    h1_x, h1_y = df.iloc[df.index.values == t0]['Entropy (l, J/mol*K)'].values[0], t0\n",
    "    h2__x, h2__y = df.iloc[df.index.values == tf]['Entropy (l, J/mol*K)'].values[0], tf\n",
    "    h2_x, h2_y = h1_x, h1_y + (h2__y - h1_y) * h_buff\n",
    "    h3_x, h3_y = df.iloc[df.index.values == tf]['Entropy (v, J/mol*K)'].values[0], tf\n",
    "    h4_x, h4_y = df.iloc[df.index.values == tf]['Entropy (v, J/mol*K)'].values[0], t0\n",
    "    \n",
    "    hxs = [h1_x, h2_x, h2__x, h3_x, h4_x, h1_x]\n",
    "    hys = [h1_y, h2_y, h2__y, h3_y, h4_y, h1_y]\n",
    "    texts = ['H1', 'H2', \"H2'\", 'H3', 'H4']\n",
    "    \n",
    "    ax.scatter(h1_x, h1_y, s=20, color=cycle_color, zorder=3)\n",
    "    ax.scatter(h2_x, h2_y, s=20, color=cycle_color, zorder=3)\n",
    "    ax.scatter(h2__x, h2__y, s=20, color=cycle_color, zorder=3)\n",
    "    ax.scatter(h3_x, h3_y, s=20, color=cycle_color, zorder=3)\n",
    "    ax.scatter(h4_x, h4_y, s=20, color=cycle_color, zorder=3)\n",
    "    ax.plot(hxs, hys, label='Ciclo Rankine', color=cycle_color, zorder=1)\n",
    "    \n",
    "    for x, y, text in zip(hxs, hys, texts):\n",
    "        ax.annotate(text, (x + anot_buff, y + anot_buff), color=cycle_color)\n",
    "    \n",
    "    add_arrows(ax, hxs, hys)\n",
    "    \n",
    "    ax.set_title('Ciclo Rankine no gráfico TS da água')\n",
    "    ax.set_xlabel('Entropia')\n",
    "    ax.set_ylabel('Temperatura (K)')\n",
    "    ax.legend()"
   ]
  },
  {
   "cell_type": "markdown",
   "id": "6a7c04a4-7058-4e73-ba78-4320aab6b8e3",
   "metadata": {},
   "source": [
    "<b> </b>"
   ]
  },
  {
   "cell_type": "markdown",
   "id": "66111efe-fc90-4aed-a286-5f01cddfc7a3",
   "metadata": {},
   "source": [
    "<p style ='text-align: justify'> A função abaixo, chamada de `cycle_eff_rankine` é a responsável por fazer o cálculo da eficiência do ciclo de Rankine em si. Ela usa como base os valores de entalpia fornecidos: H1, H3 e H4; mostrados na função na célula acima, `plot_rankine`. O ciclo termodinâmico em questão é especificado pelos pontos 1, 3 e 4, que representam diferentes estados do sistema, por isso usamos apenas três valores de entalpia. </p>\n",
    "\n",
    "<p style='text-align: justify'> Ela usa a fórmula matemática adequada para calcular a eficiência e retorna o valor dessa eficiência em porcentagem. </p>\n",
    "\n",
    "$$\\bigg( 1 - \\bigg( \\frac{H_4 - H_1}{H_3 - H_1}\\bigg)\\bigg)100$$\n",
    "\n",
    "Em que $H_1$, $H_3$ e $H_4$ são representados por $h1$, $h3$ e $h4$, respectivamente, os quais são:\n",
    "\n",
    "<ul>\n",
    "    <li> `h1`: a entalpia no ponto 1, que representa o estado inicial do sistema, antes do processo de compressão; </li>\n",
    "    <li> `h3`: a entalpia no ponto 3, que representa um estado intermediário do sistema, depois da adição de calor a pressão constante na caldeira; </li>\n",
    "    <li> `h4`: a entalpia no ponto 4, que representa o estado final do sistema, depois do processo de expansão. </li>\n",
    "</ul>\n",
    "\n",
    "<p style='text-align: justify'> A eficiência, então é calculada subtraindo a variação de entalpia entre os pontos 4 e 1, e dividindo pelo trabalho total realizado no ciclo, que é a diferença entre as entalpias nos pontos 3 e 1. Em seguida, o resultado é multiplicado por 100 para obter a eficiência em porcentagem. Com isso, uma porcentagem alta significa uma eficiência de ciclo alta, o que nos indica que uma grande proporção da energia fornecida está sendo convertida em trabalho útil, enquanto uma eficiência baixa indica perdas significativas de energia durante o ciclo. </p>"
   ]
  },
  {
   "cell_type": "markdown",
   "id": "85ee15bf-eb85-4a79-8638-82a9daca3a1f",
   "metadata": {},
   "source": [
    "<b> </b>"
   ]
  },
  {
   "cell_type": "code",
   "execution_count": 5,
   "id": "6cfdf970-38d4-4d66-971f-d1600db45859",
   "metadata": {},
   "outputs": [],
   "source": [
    "# Eficiência do ciclo de Rankine\n",
    "def cycle_eff_rankine(h1, h3, h4):\n",
    "    eficiencia_rankine = (1 - ((h4 - h1) / (h3 - h1))) * 100\n",
    "    return eficiencia_rankine"
   ]
  },
  {
   "cell_type": "markdown",
   "id": "03a87089-9b91-4467-a516-ec0ba36d799d",
   "metadata": {},
   "source": [
    "<b> </b>"
   ]
  },
  {
   "cell_type": "markdown",
   "id": "028cbbdd-8a3a-4530-9d93-83304dd60627",
   "metadata": {},
   "source": [
    "<p style='text-align: justify'> Portanto, vamos agora plotar o gráfico de eficiência do ciclo de Rankine. Para isso, definimos uma função chamada `plot_eficiencia`, que, usando a função acima, calcula a eficiência para cada ponto. </p>"
   ]
  },
  {
   "cell_type": "markdown",
   "id": "1f554d64-adf2-4789-82db-7217738ea16a",
   "metadata": {},
   "source": [
    "<b> </b>"
   ]
  },
  {
   "cell_type": "code",
   "execution_count": 6,
   "id": "237c0147-85cb-4f30-94b0-4198ca3faf4e",
   "metadata": {},
   "outputs": [],
   "source": [
    "# Plot do gráfico da eficiência em vários pontos com base em uma temperatura inicial e mostrando o ponto de eficiencia alcancado\n",
    "def plot_eficiencia(ax, t0, tf):\n",
    "    \"\"\" Com os valores de entalpia em estado líquido e gasoso em diferentes temperaturas dos dados do DataFrame, \n",
    "        ela calcula a eficiência do ciclo para cada ponto e plota o gráfico da eficiência em relação à temperatura alcançada no ponto 3.\n",
    "    \n",
    "    Args:\n",
    "        ax: o objeto do eixo do gráfico onde o gráfico será plotado. Isso permite que você especifique em qual subplot ou figura o gráfico será desenhado.\n",
    "        t0: a temperatura inicial desejada para calcular a eficiência do ciclo.\n",
    "        tf: a temperatura final desejada para traçar o gráfico da eficiência.\n",
    "    \n",
    "    Returns:\n",
    "        O gráfico da eficiência do ciclo de Rankine em vários pontos.\n",
    "    \"\"\"\n",
    "    t0 = get_closest_temp(t0)\n",
    "    tf = get_closest_temp(tf)\n",
    "    \n",
    "    h1 = df.iloc[df.index == t0]['Enthalpy (l, kJ/mol)'].values[0]\n",
    "    h4 = df.iloc[df.index == t0]['Enthalpy (v, kJ/mol)'].values[0]\n",
    "    \n",
    "    selecionados = (t0 <= df.index)\n",
    "    h3s = df.iloc[selecionados]['Enthalpy (v, kJ/mol)'].values\n",
    "    effs = [cycle_eff_rankine(h1, h3, h4) for h3 in h3s]\n",
    "    effs = [eff for eff in effs if eff >= 0]\n",
    "    \n",
    "    temps = df.iloc[selecionados].index.values\n",
    "    temps = [t for t, eff in zip(temps, effs) if eff >= 0]\n",
    "    \n",
    "    y_max = max(effs)\n",
    "    x_max = temps[effs.index(y_max)]\n",
    "    \n",
    "    h3_alcancada = df.iloc[df.index == tf]['Enthalpy (v, kJ/mol)'].values[0]\n",
    "    y_alcancada = cycle_eff_rankine(h1, h3_alcancada, h4)\n",
    "    \n",
    "    ax.plot(temps, effs, color=eff_color, zorder=1, label='Eficiência')\n",
    "    \n",
    "    ax.scatter(x_max, y_max, color=max_eff_color, zorder=2)\n",
    "    ax.plot([x_max, x_max], [0, y_max], color=max_eff_color, zorder=2, ls='--', label='Eficiência máxima')\n",
    "    \n",
    "    ax.scatter(tf, y_alcancada, color=eff_alcancada_color, zorder=2)\n",
    "    ax.plot([tf, tf], [0, y_alcancada], color=eff_alcancada_color, zorder=2, ls='--', label='Eficiência alcançada')\n",
    "\n",
    "    ax.set_title('Eficiência do Ciclo')\n",
    "    ax.set_xlabel('Temperatura Alcançada no ponto 3 (K)')\n",
    "    ax.set_ylabel('Eficiência (%)')\n",
    "    ax.legend()\n",
    "    \n",
    "    print(f'Eficiencia alcançada no ciclo: {y_alcancada}')\n",
    "    print(f'Temperatura do ciclo na eficiência máxima: {x_max}K')"
   ]
  },
  {
   "cell_type": "markdown",
   "id": "b8b63c69-c676-4170-a2f7-a32f973197ea",
   "metadata": {},
   "source": [
    "## Cálculo do ciclo e plot do gráfico"
   ]
  },
  {
   "cell_type": "markdown",
   "id": "8bed5abc-0d6c-4be2-86cb-2e513d21fa16",
   "metadata": {},
   "source": [
    "<p style='text-align: justify'> Por fim, vamos obter a figura do gráfico que calculamos desde o início desse Notebook. </p>"
   ]
  },
  {
   "cell_type": "markdown",
   "id": "48bb0c5d-b4f4-489b-8a18-476d3f4418b9",
   "metadata": {},
   "source": [
    "<b> </b>"
   ]
  },
  {
   "cell_type": "code",
   "execution_count": 7,
   "id": "26686373-f28a-49e2-9760-a7e56ac7e4c6",
   "metadata": {},
   "outputs": [
    {
     "name": "stdout",
     "output_type": "stream",
     "text": [
      "Dados:\n",
      "Massa de água = 5000g\n",
      "Temperatura inicial: 298.15K / 25.00°C\n",
      "Massa do composto = 100000g\n",
      "Composto = Acetona\n",
      "\n",
      "Resultados\n",
      "Temperatura alcançada: 553.61K / 280.46°C\n",
      "Energia liberada na combustão: 3072450014.20J / 3072450.01kJ\n",
      "Energia necessária para elevar a essa temperatura: 3050470682.40J / 3050470.68kJ\n",
      "Energia necessária para evaporar a água nessa temperatura: 14101493.36J / 14101.49kJ\n",
      "Energia total: 3064572175.76J / 3064572.18kJ\n",
      "Eficiencia alcançada no ciclo: 8.70883936270025\n",
      "Temperatura do ciclo na eficiência máxima: 508.73968K\n"
     ]
    },
    {
     "data": {
      "image/png": "[encoded data removed]",
      "text/plain": [
       "<Figure size 1440x576 with 2 Axes>"
      ]
     },
     "metadata": {
      "needs_background": "light"
     },
     "output_type": "display_data"
    }
   ],
   "source": [
    "gramas = 100000\n",
    "composto = 'Acetona'\n",
    "massa_agua = 5000\n",
    "temp_inicial = 298.15\n",
    "\n",
    "temp_alcancada, e_el, e_ev, e_t, el = temp_max(massa_agua, gramas, composto, temp_inicial)\n",
    "\n",
    "print('Dados:')\n",
    "print(f'Massa de água = {massa_agua}g')\n",
    "print(f'Temperatura inicial: {temp_inicial:.2f}K / {temp_inicial - 273.15:.2f}°C')\n",
    "print(f'Massa do composto = {gramas}g')\n",
    "print(f'Composto = {composto}')\n",
    "\n",
    "print()\n",
    "\n",
    "print('Resultados')\n",
    "print(f'Temperatura alcançada: {temp_alcancada:.2f}K / {temp_alcancada - 273.15:.2f}°C')\n",
    "print(f'Energia liberada na combustão: {el:.2f}J / {el / 1000:.2f}kJ')\n",
    "print(f'Energia necessária para elevar a essa temperatura: {e_el:.2f}J / {e_el / 1000:.2f}kJ')\n",
    "print(f'Energia necessária para evaporar a água nessa temperatura: {e_ev:.2f}J / {e_ev / 1000:.2f}kJ')\n",
    "print(f'Energia total: {e_t:.2f}J / {e_t / 1000:.2f}kJ')\n",
    "\n",
    "fig, (ax1, ax2) = plt.subplots(1, 2, figsize=(20, 8))\n",
    "\n",
    "plot_rankine(ax1, temp_inicial, temp_alcancada)\n",
    "plot_eficiencia(ax2, temp_inicial, temp_alcancada)"
   ]
  },
  {
   "cell_type": "markdown",
   "id": "5b97f90d-f21a-452f-b288-9a0b8bc3fa08",
   "metadata": {},
   "source": [
    "<b> </b>"
   ]
  },
  {
   "cell_type": "markdown",
   "id": "24078b46-8e9d-4768-a93d-b96263143a95",
   "metadata": {
    "jp-MarkdownHeadingCollapsed": true,
    "tags": []
   },
   "source": [
    "#### <p style='text-align: justify'> Vendo os dois gráficos acima e os valores obtidos pelos nossos cálculos, podemos dizer que a porcentagem de eficiência do ciclo de Rankine para o nosso sistema é de 8,7% </p>"
   ]
  },
  {
   "cell_type": "markdown",
   "id": "490f65ff-498f-4704-8692-51fc14c208dd",
   "metadata": {},
   "source": [
    "<h2> Considerando o ciclo de Carnot </h2>\n",
    "\n",
    "<p style='text_align: justify'> Até agora foram trabalhadas as consições de uma máquina térmica considerada sob o ciclo de Rankine ideal. Entretanto, mesmo que estejamos lidando com a idelidade de um sistema como o nosso, o ciclo de Rankine não pode ser completamente ideal, uma vez que ele não é teórico, como é o caso so ciclo de Carnot. Esse tipo de ciclo não é, de forma alguma, utilizável de maneira prática, uma vez que é completamente reversível. Sendo assim, vamos agora considerar o ciclo de Carnot aplicado para o nosso sistema de fluidos. Isso nos permitirá comparar ambos os ciclos. </p>\n",
    "\n",
    "<p style='text-align: justify'> Da mesma forma que fizemos com Rankine, portanto, precisamos calcular a eficiência do ciclo de Carnot, a qual é . Diferente de Rankine, que usa as entalpias para diferentes estados do sistema, Carnot considera apenas as temperaturas envolvidas no sistema, ou seja, a temperatura em que a água entra no ciclo e a temperatura em que a água entra em ebulição. Por esse motivo ele retorna o rendimento máximo que uma máquina térmica pode ter, bom como por isso que ele é puramente ideal e, consequentemente, teórico. </p>\n",
    "\n",
    "Assim:\n",
    "\n",
    "$$\\bigg( 1 - \\bigg( \\frac{T_{fria}}{T_{quente}}\\bigg)\\bigg)100$$\n",
    "\n",
    "Em que:\n",
    "\n",
    "<ul>\n",
    "    <li> `T_fria`: temperatura em que a água entre no ciclo; </li>\n",
    "    <li> `T_quente`: temperatura em que a água entra em ebulição. </li>\n",
    "</ul>\n",
    "\n",
    "<p style='text-align: justify'> Nesse sentido, a eficiência do ciclo de Carnot é uma medida da capacidade do ciclo em converter calor em trabalho tal que quanto maior a diferença de temperatura entre as fontes quente e fria, maior será a eficiência do ciclo de Carnot. Portanto, criamos uma função chamada `cycle_eff_carnot` que é responsável por calcular a eficiência desse ciclo com base nas duas temperaturas fornecidas. </p>\n",
    "\n",
    "<p style='text-align: justify'> Pelo cálculo do ciclo resultar em um rendimento máximo da máquina, o valor de eficiência que esperamos receber ao final deve ser maior que o valor de eficiência obtido para o ciclo de Rankine. </p>"
   ]
  },
  {
   "cell_type": "code",
   "execution_count": 8,
   "id": "7fd5c9b2-ec8f-4c0a-84c6-69bd9cfa91e5",
   "metadata": {
    "tags": []
   },
   "outputs": [],
   "source": [
    "# Eficiência do ciclo de Carnot\n",
    "def cycle_eff_carnot(t_fria, t_quente):\n",
    "    eficiencia_carnot = (1 - (t_fria / t_quente)) * 100\n",
    "    return eficiencia_carnot"
   ]
  },
  {
   "cell_type": "code",
   "execution_count": 9,
   "id": "c9a1ea74-7c39-4254-bc52-c61a69ddc98e",
   "metadata": {},
   "outputs": [
    {
     "data": {
      "text/plain": [
       "41.393273445639146"
      ]
     },
     "execution_count": 9,
     "metadata": {},
     "output_type": "execute_result"
    }
   ],
   "source": [
    "t_fria = 298.15\n",
    "t_quente = 508.73\n",
    "\n",
    "cycle_eff_carnot(t_fria, t_quente)"
   ]
  },
  {
   "cell_type": "markdown",
   "id": "181e5a53-5c51-47f8-adba-3e232a7a94e7",
   "metadata": {},
   "source": [
    "#### Assim, podemos dizer que a porcentagem de eficiência do ciclo de Rankine para o nosso sistema é de 41,3%"
   ]
  },
  {
   "cell_type": "markdown",
   "id": "d6a4b20b-32c8-4205-a4c9-38299ae5c2dd",
   "metadata": {},
   "source": [
    "<h3> Referências </h3>\n",
    "\n",
    "[1] - <a href='An Introduction to Thermal Physics by Daniel V. Schroeder (z-lib.org).pdf'> SCHROEDER, Daniel. An Introduction to Thermal Physics. 2000, p 122-137, ISBN 0-201-38027-7. </a>\n",
    "\n",
    "[2] - <a href='https://webbook.nist.gov/chemistry/name-ser/'> Chemical Name Search. Disponível em: https://webbook.nist.gov/chemistry/name-ser/. </a>\n",
    "\n",
    "[3] - <a href='https://webbook.nist.gov/chemistry/fluid/'> NATIONAL INSTITUTE OF STANDARDS AND TECHNOLOGY. Thermophysical Properties of Fluid Systems. Disponível em: https://webbook.nist.gov/chemistry/fluid/. </a>"
   ]
  },
  {
   "cell_type": "markdown",
   "id": "d72af879-98da-4aa6-b762-a9f60758b48f",
   "metadata": {},
   "source": [
    "### Comentários Peer-Review:\n",
    "Em geral, o notebook cumpriu o requisitado pelo Desafio, introduzindo o ciclo de Rankine, discutindo-o teoricamente, utilizando dados tabelados para a água e comparando a eficiência do Ciclo de Rankine com o Ciclo de Carnot. Descrição e discussão ao longo do notebook foram decentemente executadas. Os códigos estão ordenados, documentados e bem organizados. Os gráficos conseguem explicitar claramente os processos que descrevem. O gráfico de eficiência, apesar de ser algo extra, é extremamente interessante de uma perspectiva visual, uma vez que compara as eficiências do ciclo de forma rápida e eficaz. Mesmo assim, alguns aspectos poderiam ser melhor desenvolvidos:\n",
    "\n",
    "#### O Ciclo de Rankine: \n",
    "Não há erros conceituais na explicação introdutória sobre o ciclo. Foi mencionado que o ciclo pode ser reversível ou não, o que está correto.  Os processos que compõem os o ciclo ideal foram descritos corretamente, explicando que a compressão e a expansão são isentrópicas para o ciclo ideal, que considera que a turbina e a bomba não geram entropia. \n",
    "\n",
    "Poderia ter discutido mais as suposições do modelo, relacionando com a segunda lei da termodinâmica para explicar o porque do modelo ser uma idealização, já que na realidade há aumento na entropia para todos os processos.\n",
    "\n",
    "#### Cálculo da temperatura:\n",
    "A conta está correta, porém faltou desenvolver mais conceitualmente. Por exemplo, da mesma forma como foi explicada a fórmula da eficiência do ciclo, mostrando a expressão em Latex, poderia ter mostrado a integral da temperatura  vezes a capacidade calorífica, usada para calcular a variação de entalpia, além de explicá-la. Ficaria mais claro, ao invés de fazer tudo dentro das funções de python.\n",
    "\n",
    "#### Eficiência do ciclo de Rankine:\n",
    "Apesar do objetivo ser usar o ciclo de Rankine ideal, poderiam ter abordado um pouco mais as possibilidades não ideais. Por exemplo discutindo o fato que nem toda variação de entalpia na expansão é convertida em trabalho, por conta da eficiência da própria turbina. A mesma coisa vale para perdas de energia na compressão, e da irreversibilidade de uma bomba real. O ciclo considera a compressão e a expansão como idealmente isentrópicas, mas a discussão poderia ter se perguntado: \"E se a turbina e a bomba gerassem entropia para o sistema, como no caso real, como isso afetaria o ciclo?\"\n",
    "\n",
    "#### Mais discussões:\n",
    "* Relação do Ciclo de Rankine com o ponto crítico da água.\n",
    "* O por quê de, em geral, se utiliza a água como fluido para o Ciclo de Rankine.\n",
    "* Aplicações reais para o Ciclo de Rankine.\n",
    "* Relação da temperatura do boiler e do condensador com o rendimento no ciclo de Rankine (<a href='https://en.wikipedia.org/wiki/Rankine_cycle#The_four_processes_in_the_Rankine_cycle'> Rankine Cycle</a> obedece a <a href='https://en.wikipedia.org/wiki/Carnot%27s_theorem_(thermodynamics)'> Carnot's Theorem</a>)."
   ]
  },
  {
   "cell_type": "code",
   "execution_count": null,
   "id": "4fe49ff0-44a5-4337-97ef-373c1c156874",
   "metadata": {},
   "outputs": [],
   "source": []
  }
 ],
 "metadata": {
  "kernelspec": {
   "display_name": "ilumpy",
   "language": "python",
   "name": "ilumpy"
  },
  "language_info": {
   "codemirror_mode": {
    "name": "ipython",
    "version": 3
   },
   "file_extension": ".py",
   "mimetype": "text/x-python",
   "name": "python",
   "nbconvert_exporter": "python",
   "pygments_lexer": "ipython3",
   "version": "3.9.7"
  }
 },
 "nbformat": 4,
 "nbformat_minor": 5
}
