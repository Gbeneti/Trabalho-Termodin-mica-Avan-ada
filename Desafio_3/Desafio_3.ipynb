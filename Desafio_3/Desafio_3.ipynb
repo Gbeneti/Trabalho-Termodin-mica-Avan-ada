{
 "cells": [
  {
   "cell_type": "markdown",
   "id": "95a372d4-b6a7-461f-b577-1557629dd901",
   "metadata": {
    "tags": []
   },
   "source": [
    "# DESAFIO 03  -  (Tolueno-Benzeno)"
   ]
  },
  {
   "cell_type": "markdown",
   "id": "6db7831c-f85c-499c-b251-5eba4ba9da54",
   "metadata": {},
   "source": [
    "Para o Desafio03, precisamos fazer os compostos entrarem em combustão para posteriormente, no desafio 04, entrar no ciclo de Rankine"
   ]
  },
  {
   "cell_type": "code",
   "execution_count": 1,
   "id": "9ff4c110-92aa-4575-881c-ad121519795f",
   "metadata": {},
   "outputs": [],
   "source": [
    "#importar bibliotecas\n",
    "import numpy as np"
   ]
  },
  {
   "cell_type": "markdown",
   "id": "a33ee6e9-bd09-4c7e-b412-0a624632e2de",
   "metadata": {
    "tags": []
   },
   "source": [
    "### **O que precisamos :**\n",
    "\n",
    "<dt>\n",
    "    \n",
    "* **POTENCIAIS TERMODINÂMICOS** (envolvidos na reação de combustão)\n",
    "    - energia interna\n",
    "    - entalpia\n",
    "    - energia livre de Gibbs \n",
    "    \n",
    "<DT>\n",
    "    \n",
    "* **ENTROPIA ENVOLVIDA NA REAÇÃO DE COMBUSTÃO** <DT>\n",
    "\n",
    "* **EQUAÇÃO DE ESTADO A SER USADO NO SISTEMA** <DT>"
   ]
  },
  {
   "cell_type": "markdown",
   "id": "9338fddf-5660-49aa-80f4-40e4ec414657",
   "metadata": {},
   "source": [
    "Baseado no desafio 1, escolhemos utilizar uma concentração de 2 para 1 de tolueno e benzeno respectivamente. Tal concentração foi encontrada através do balançeamento da reação química.\n",
    "\n",
    "**0,8 C6 H5 CH3 + 0,4 C6H6 + 20,4 O2 --> 4,4 H2O + 8CO2**"
   ]
  },
  {
   "cell_type": "markdown",
   "id": "89fa92a0-f8c1-4662-855a-8c86de7558c1",
   "metadata": {},
   "source": [
    "### Cálculo da Entalpia de combustão por meio da entalpia de formação"
   ]
  },
  {
   "cell_type": "code",
   "execution_count": 26,
   "id": "65254549-ecaf-4aed-b63d-622e5f588283",
   "metadata": {},
   "outputs": [],
   "source": [
    "def entalp_comb(reagente_1,reagente_2,produto_1,produto_2):\n",
    "    #condições: 1 atm e 298.15K\n",
    "    #é possível aplicar correções\n",
    "    #balanceamento estequiométrico\n",
    "    entalpia_produtos = 12*produto_1 + 6*produto_2 #CO2(g) + água(g)\n",
    "    entalpia_reagentes =  2*reagente_1 + 15*reagente_2 #benzeno(g) + O2(g) \n",
    "\n",
    "    entalpia_combustao = entalpia_produtos - entalpia_reagentes #entalpia de combustão para 2 mol\n",
    "    entalp_comb_1mol = np.round((entalpia_combustao/2),4)\n",
    "    return(f'A entalpia de conbustão da reação é: {entalp_comb_1mol} kJ/mol')\n",
    "\n",
    "# Referências de 3 a 7"
   ]
  },
  {
   "cell_type": "code",
   "execution_count": 27,
   "id": "ade5d13b-7f9a-42c9-97f7-19cea29ad217",
   "metadata": {},
   "outputs": [
    {
     "data": {
      "text/plain": [
       "'A entalpia de conbustão da reação é: -3267.44 kJ/mol'"
      ]
     },
     "execution_count": 27,
     "metadata": {},
     "output_type": "execute_result"
    }
   ],
   "source": [
    "entalp_comb(48.95,0,-393.5,-285.83)"
   ]
  },
  {
   "cell_type": "markdown",
   "id": "2425c37c-9e9c-4f60-88eb-6cd4f7398452",
   "metadata": {},
   "source": [
    "Nota-se que este valor condiz com a literatura. De acordo com [5]: -3267.5 ± 0.42 kJ/mol"
   ]
  },
  {
   "cell_type": "code",
   "execution_count": 28,
   "id": "52fae778-b378-4f12-8eb7-f023a5a0f985",
   "metadata": {},
   "outputs": [],
   "source": [
    "#entalpia de combustão benzeno: https://webbook.nist.gov/cgi/cbook.cgi?ID=C71432&Type=HCOMBL#HCOMBL\n",
    "#entalpia de formação do benzeno: https://webbook.nist.gov/cgi/inchi?ID=C71432&Mask=2#Thermo-Condensed"
   ]
  },
  {
   "cell_type": "markdown",
   "id": "dddb6213-9d79-4199-b6f0-612ba949084e",
   "metadata": {},
   "source": [
    "### Cálculo da variação de entropia "
   ]
  },
  {
   "cell_type": "markdown",
   "id": "4972b223-5392-460f-b210-7aa9453455f5",
   "metadata": {},
   "source": [
    "Agora, para realizar o cálculo da variação de entropia, precisamos calcular a entropia de nossos reagentes coma entropia dos nossos produtos e, a partir disso, subtrair.<dt>\n",
    "    Entalpia Produtos - Entalpia Reagentes = Entropia Sist"
   ]
  },
  {
   "cell_type": "code",
   "execution_count": 29,
   "id": "6c6a15cd-e14e-426f-aaee-0329a8bb7ec2",
   "metadata": {},
   "outputs": [],
   "source": [
    "def entrop_comb(reag1, reag2, prod1, prod2):\n",
    "    #entropia dos PRODUTOS, sendo estes CO2 e ÁGUA\n",
    "    entrop_prod = 12*prod1 + 6*prod2 \n",
    "    \n",
    "    #entropia dos REAGENTES, sendo estes BENZENO  e O2\n",
    "    entrop_reag = 2*reag1 + 15*reag2\n",
    "    \n",
    "    entrop_comb = entrop_prod - entrop_reag\n",
    "    entrop_comb_1mol = np.round((entrop_comb/2),4)\n",
    "    return(f'A entropia de combustão da reação é: {entrop_comb_1mol} J/mol*K')"
   ]
  },
  {
   "cell_type": "code",
   "execution_count": 30,
   "id": "c612b1bb-ddbf-429d-8622-becb3ea5486a",
   "metadata": {},
   "outputs": [
    {
     "data": {
      "text/plain": [
       "'A entropia de combustão da reação é: -790.835 J/mol*K'"
      ]
     },
     "execution_count": 30,
     "metadata": {},
     "output_type": "execute_result"
    }
   ],
   "source": [
    "entrop_comb(-24.085,205 ,120.43,0)\n",
    "# respectivamente BENZ/O2/CO2/AGUA"
   ]
  },
  {
   "cell_type": "markdown",
   "id": "7a9a8126-11b8-4ff8-9e26-d128a1962c90",
   "metadata": {},
   "source": [
    "### Energia de Gibbs:"
   ]
  },
  {
   "cell_type": "markdown",
   "id": "a84aee73-8560-4185-a544-e022030808c0",
   "metadata": {},
   "source": [
    "Energia de Gibbs é dada por:\n",
    "    G = Entalp Comb - Temp x Entrop Comb"
   ]
  },
  {
   "cell_type": "code",
   "execution_count": 31,
   "id": "ef8c7f21-0d99-45a5-bb98-d9f476eb69e6",
   "metadata": {},
   "outputs": [],
   "source": [
    "def gibbs(EntrC, EntC, T):\n",
    "    gibbs = EntaC - (T * EntC)\n",
    "    return gibbs"
   ]
  },
  {
   "cell_type": "code",
   "execution_count": 34,
   "id": "af2ee1d2-f2e7-4d08-91e3-545216c11402",
   "metadata": {},
   "outputs": [
    {
     "ename": "TypeError",
     "evalue": "unsupported operand type(s) for *: 'int' and 'function'",
     "output_type": "error",
     "traceback": [
      "\u001b[1;31m---------------------------------------------------------------------------\u001b[0m",
      "\u001b[1;31mTypeError\u001b[0m                                 Traceback (most recent call last)",
      "\u001b[1;32mC:\\Users\\VICTOR~1\\AppData\\Local\\Temp/ipykernel_26744/736705127.py\u001b[0m in \u001b[0;36m<module>\u001b[1;34m\u001b[0m\n\u001b[1;32m----> 1\u001b[1;33m \u001b[0mgibbs\u001b[0m\u001b[1;33m(\u001b[0m\u001b[1;33m-\u001b[0m\u001b[1;36m790.835\u001b[0m\u001b[1;33m,\u001b[0m \u001b[1;33m-\u001b[0m\u001b[1;36m3267.44\u001b[0m\u001b[1;33m,\u001b[0m \u001b[1;36m298\u001b[0m\u001b[1;33m)\u001b[0m\u001b[1;33m\u001b[0m\u001b[1;33m\u001b[0m\u001b[0m\n\u001b[0m",
      "\u001b[1;32mC:\\Users\\VICTOR~1\\AppData\\Local\\Temp/ipykernel_26744/3909542616.py\u001b[0m in \u001b[0;36mgibbs\u001b[1;34m(entrop_comb_1mol, entalp_comb_1mol, T)\u001b[0m\n\u001b[0;32m      1\u001b[0m \u001b[1;32mdef\u001b[0m \u001b[0mgibbs\u001b[0m\u001b[1;33m(\u001b[0m\u001b[0mentrop_comb_1mol\u001b[0m\u001b[1;33m,\u001b[0m \u001b[0mentalp_comb_1mol\u001b[0m\u001b[1;33m,\u001b[0m \u001b[0mT\u001b[0m\u001b[1;33m)\u001b[0m\u001b[1;33m:\u001b[0m\u001b[1;33m\u001b[0m\u001b[1;33m\u001b[0m\u001b[0m\n\u001b[1;32m----> 2\u001b[1;33m     \u001b[0mgibbs\u001b[0m \u001b[1;33m=\u001b[0m \u001b[0mentalp_comb\u001b[0m \u001b[1;33m-\u001b[0m \u001b[1;33m(\u001b[0m\u001b[0mT\u001b[0m \u001b[1;33m*\u001b[0m \u001b[0mentrop_comb\u001b[0m\u001b[1;33m)\u001b[0m\u001b[1;33m\u001b[0m\u001b[1;33m\u001b[0m\u001b[0m\n\u001b[0m\u001b[0;32m      3\u001b[0m     \u001b[1;32mreturn\u001b[0m \u001b[0mgibbs\u001b[0m\u001b[1;33m\u001b[0m\u001b[1;33m\u001b[0m\u001b[0m\n",
      "\u001b[1;31mTypeError\u001b[0m: unsupported operand type(s) for *: 'int' and 'function'"
     ]
    }
   ],
   "source": [
    "gibbs(-790.835, -3267.44, 298)"
   ]
  },
  {
   "cell_type": "markdown",
   "id": "a3458c68-1bdd-4eb9-abc6-067c7de9d62e",
   "metadata": {
    "tags": []
   },
   "source": [
    "entropia do benzeno: https://webbook.nist.gov/cgi/fluid.cgi?T=+298&PLow=0.9&PHigh=1.1&PInc=&Digits=5&ID=C71432&Action=Load&Type=IsoTherm&TUnit=K&PUnit=atm&DUnit=mol%2Fl&HUnit=kJ%2Fmol&WUnit=m%2Fs&VisUnit=uPa*s&STUnit=N%2Fm&RefState=DEF\n",
    "\n",
    "entropia O2:https://webbook.nist.gov/cgi/fluid.cgi?T=+298&PLow=1&PHigh=1&PInc=&Digits=5&ID=C7782447&Action=Load&Type=IsoTherm&TUnit=K&PUnit=atm&DUnit=mol%2Fl&HUnit=kJ%2Fmol&WUnit=m%2Fs&VisUnit=uPa*s&STUnit=N%2Fm&RefState=DEF\n",
    "\n",
    "entropia CO2:https://webbook.nist.gov/cgi/fluid.cgi?T=298&PLow=1&PHigh=1&PInc=&Digits=5&ID=C124389&Action=Load&Type=IsoTherm&TUnit=K&PUnit=atm&DUnit=mol%2Fl&HUnit=kJ%2Fmol&WUnit=m%2Fs&VisUnit=uPa*s&STUnit=N%2Fm&RefState=DEF"
   ]
  },
  {
   "cell_type": "markdown",
   "id": "349d1700-c149-48b4-9259-316108b81295",
   "metadata": {},
   "source": [
    "## Referências"
   ]
  },
  {
   "cell_type": "markdown",
   "id": "5a453a01-88ab-452f-a9cd-f00b7484b08c",
   "metadata": {},
   "source": [
    "* 3) https://en.wikipedia.org/wiki/Benzene_(data_page) \n",
    "\n",
    "* 4) benzeno: https://webbook.nist.gov/cgi/inchi?ID=C71432&Mask=2#Thermo-Condensed\n",
    "* 5) entalpia de combustão benzeno: https://webbook.nist.gov/cgi/cbook.cgi?ID=C71432&Type=HCOMBL#HCOMBL\n",
    "\n",
    "* 6) água: https://webbook.nist.gov/cgi/cbook.cgi?ID=C7732185&Mask=2\n",
    "    \n",
    "* 7) CO2:https://webbook.nist.gov/cgi/cbook.cgi?ID=C124389&Mask=1 "
   ]
  },
  {
   "cell_type": "markdown",
   "id": "1bd249c6-a076-4e01-8367-e2d24ae936e0",
   "metadata": {
    "jp-MarkdownHeadingCollapsed": true,
    "tags": []
   },
   "source": [
    "#### Mateiral para referência no Livro McQuarrie (Physical Chemistry: A Molecular Approach)\n",
    "\n",
    "Como trabalhar com entaplia:\n",
    "seções - (19-9 a 19-12)\n",
    "\n",
    "Como calcular entalpia em sistemas termodinâmicos:\n",
    "seções - (21-1 a 21-5)\n",
    "\n",
    "Como calcular a enttropia de uma reação quimica a partir de entropias padrão:\n",
    "seções - (21-9)\n",
    "\n",
    "Variação de entalpia, entropia e energia livre de Gibbs em função da temperatura:\n",
    "seções - (21-1 a 22-7)\n",
    "\n",
    "Potênciais termodinâmicos:\n",
    "seções - (22)"
   ]
  }
 ],
 "metadata": {
  "kernelspec": {
   "display_name": "ilumpy",
   "language": "python",
   "name": "ilumpy"
  },
  "language_info": {
   "codemirror_mode": {
    "name": "ipython",
    "version": 3
   },
   "file_extension": ".py",
   "mimetype": "text/x-python",
   "name": "python",
   "nbconvert_exporter": "python",
   "pygments_lexer": "ipython3",
   "version": "3.9.7"
  }
 },
 "nbformat": 4,
 "nbformat_minor": 5
}
