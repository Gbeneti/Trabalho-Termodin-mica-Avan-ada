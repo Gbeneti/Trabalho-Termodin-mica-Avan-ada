{
 "cells": [
  {
   "cell_type": "markdown",
   "id": "95a372d4-b6a7-461f-b577-1557629dd901",
   "metadata": {},
   "source": [
    "# DESAFIO 03  -  (Tolueno-Benzeno)"
   ]
  },
  {
   "cell_type": "raw",
   "id": "fab51ac2-67fa-4664-b55d-c475dcdf01fc",
   "metadata": {
    "jupyter": {
     "source_hidden": true
    },
    "tags": []
   },
   "source": [
    "Mateiral para referência no Livro McQuarrie (Physical Chemistry: A Molecular Approach)\n",
    "\n",
    "Como trabalhar com entaplia:\n",
    "seções - (19-9 a 19-12)\n",
    "\n",
    "Como calcular entalpia em sistemas termodinâmicos:\n",
    "seções - (21-1 a 21-5)\n",
    "\n",
    "Como calcular a enttropia de uma reação quimica a partir de entropias padrão:\n",
    "seções - (21-9)\n",
    "\n",
    "Variação de entalpia, entropia e energia livre de Gibbs em função da temperatura:\n",
    "seções - (21-1 a 22-7)\n",
    "\n",
    "Potênciais termodinâmicos:\n",
    "seções - (22)"
   ]
  },
  {
   "cell_type": "markdown",
   "id": "a33ee6e9-bd09-4c7e-b412-0a624632e2de",
   "metadata": {
    "tags": []
   },
   "source": [
    "### **O que precisamos :**\n",
    "\n",
    "<dt>\n",
    "    \n",
    "* **POTENCIAIS TERMODINÂMICOS** (envolvidos na reação de combustão)\n",
    "    - energia interna\n",
    "    - entalpia\n",
    "    - energia livre de Gibbs \n",
    "    \n",
    "<DT>\n",
    "    \n",
    "* **ENTROPIA ENVOLVIDA NA REAÇÃO DE COMBUSTÃO** <DT>\n",
    "\n",
    "* **EQUAÇÃO DE ESTADO A SER USADO NO SISTEMA** <DT>"
   ]
  },
  {
   "cell_type": "markdown",
   "id": "9338fddf-5660-49aa-80f4-40e4ec414657",
   "metadata": {},
   "source": [
    "Baseado no desafio 1, escolhemos utilizar uma concentração de 2 para 1 de tolueno e benzeno respectivamente. Tal concentração foi encontrada através do balançeamento da reação química.\n",
    "\n",
    "**0,8 C6 H5 CH3 + 0,4 C6H6 + 20,4 O2 --> 4,4 H2O + 8CO2**"
   ]
  },
  {
   "cell_type": "markdown",
   "id": "89fa92a0-f8c1-4662-855a-8c86de7558c1",
   "metadata": {},
   "source": [
    "### Cálculo da Entalpia de combustão por meio da entalpia de formação"
   ]
  },
  {
   "cell_type": "code",
   "execution_count": 1,
   "id": "65254549-ecaf-4aed-b63d-622e5f588283",
   "metadata": {},
   "outputs": [
    {
     "name": "stdout",
     "output_type": "stream",
     "text": [
      "A entalpia de conbustão da reação é: -5678.416666666666 kJ/mol\n"
     ]
    }
   ],
   "source": [
    "entalpia_produtos = 20.4*(-393.5) + 4.4*(285.83) #água(l) + CO2(g)\n",
    "entalpia_reagentes = 0.8*(49.26) + 0.4*(12.36) + 20.4*0 #tolueno(l) + benzeno(l) + O2(g), baseado no gráfico de fase\n",
    "#balanceamento estequiométrico\n",
    "\n",
    "#condições = 298.15K, 1atm. Durante a atividades, até o momento, consideramos a pressão constante.\n",
    "#no futuro, é possível corrigir para as condições de temperatura necessárias \n",
    "\n",
    "entalpia_combustao = entalpia_produtos - entalpia_reagentes #entalpia de combustão para 1.2 mol\n",
    "entalpia_combustao_1_mol = (entalpia_combustao/(1.2))\n",
    "print('A entalpia de conbustão da reação é:', entalpia_combustao_1_mol, 'kJ/mol')\n",
    "\n",
    "# Referências de 3 a 7"
   ]
  },
  {
   "cell_type": "markdown",
   "id": "349d1700-c149-48b4-9259-316108b81295",
   "metadata": {},
   "source": [
    "## Referências"
   ]
  },
  {
   "cell_type": "markdown",
   "id": "5a453a01-88ab-452f-a9cd-f00b7484b08c",
   "metadata": {},
   "source": [
    "* 3) https://en.wikipedia.org/wiki/Benzene_(data_page) \n",
    "\n",
    "* 4) tolueno: https://atct.anl.gov/Thermochemical%20Data/version%201.118/species/?species_number=848\n",
    "\n",
    "* 5) benzeno: https://atct.anl.gov/Thermochemical%20Data/version%201.118/species/?species_number=333\n",
    "\n",
    "* 6) água: https://webbook.nist.gov/cgi/cbook.cgi?ID=C7732185&Mask=2\n",
    "    \n",
    "* 7) CO2:https://webbook.nist.gov/cgi/cbook.cgi?ID=C124389&Mask=1 "
   ]
  },
  {
   "cell_type": "code",
   "execution_count": null,
   "id": "1a363a37-6c81-4199-b8d5-513ed2dc110d",
   "metadata": {},
   "outputs": [],
   "source": []
  }
 ],
 "metadata": {
  "kernelspec": {
   "display_name": "ilumpy",
   "language": "python",
   "name": "ilumpy"
  },
  "language_info": {
   "codemirror_mode": {
    "name": "ipython",
    "version": 3
   },
   "file_extension": ".py",
   "mimetype": "text/x-python",
   "name": "python",
   "nbconvert_exporter": "python",
   "pygments_lexer": "ipython3",
   "version": "3.9.7"
  }
 },
 "nbformat": 4,
 "nbformat_minor": 5
}
