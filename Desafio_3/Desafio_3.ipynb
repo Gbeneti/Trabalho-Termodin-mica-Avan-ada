{
 "cells": [
  {
   "cell_type": "markdown",
   "id": "95a372d4-b6a7-461f-b577-1557629dd901",
   "metadata": {
    "tags": []
   },
   "source": [
    "# DESAFIO 03  -  (Tolueno-Benzeno)"
   ]
  },
  {
   "cell_type": "markdown",
   "id": "6db7831c-f85c-499c-b251-5eba4ba9da54",
   "metadata": {},
   "source": [
    "Para o Desafio03, precisamos fazer os compostos entrarem em combustão para posteriormente, no desafio 04, entrar no ciclo de Rankine"
   ]
  },
  {
   "cell_type": "code",
   "execution_count": 1,
   "id": "9ff4c110-92aa-4575-881c-ad121519795f",
   "metadata": {},
   "outputs": [],
   "source": [
    "#importar bibliotecas\n",
    "import numpy as np\n",
    "from uncertainties import ufloat"
   ]
  },
  {
   "cell_type": "markdown",
   "id": "a33ee6e9-bd09-4c7e-b412-0a624632e2de",
   "metadata": {
    "tags": []
   },
   "source": [
    "### **O que precisamos :**\n",
    "\n",
    "<dt>\n",
    "    \n",
    "* **POTENCIAIS TERMODINÂMICOS** (envolvidos na reação de combustão)\n",
    "    - energia interna\n",
    "    - entalpia\n",
    "    - energia livre de Gibbs \n",
    "    \n",
    "<DT>\n",
    "    \n",
    "* **ENTROPIA ENVOLVIDA NA REAÇÃO DE COMBUSTÃO** <DT>\n",
    "\n",
    "* **EQUAÇÃO DE ESTADO A SER USADO NO SISTEMA** <DT>"
   ]
  },
  {
   "cell_type": "markdown",
   "id": "9338fddf-5660-49aa-80f4-40e4ec414657",
   "metadata": {},
   "source": [
    "Baseado no desafio 1, escolhemos utilizar uma concentração de 2 para 1 de tolueno e benzeno respectivamente. Tal concentração foi encontrada através do balançeamento da reação química<br>\n",
    "\n",
    "$ 0.8 \\: C_6 H_5 CH_3 + 0.4 \\: C_6H_6 + 20.4 \\: O_2 \\rightleftharpoons 4.4 \\: H_2O + 8 \\: CO_2 $"
   ]
  },
  {
   "cell_type": "markdown",
   "id": "89fa92a0-f8c1-4662-855a-8c86de7558c1",
   "metadata": {},
   "source": [
    "### 1) Cálculo da Entalpia de combustão por meio da entalpia de formação"
   ]
  },
  {
   "cell_type": "markdown",
   "id": "3daf7ada-7872-4ff5-b7c5-5b9d1e2f819b",
   "metadata": {},
   "source": [
    "#### Entalpias de formação (retiradas de https://www.nist.gov/):"
   ]
  },
  {
   "cell_type": "code",
   "execution_count": 2,
   "id": "87e1a6ba-ad26-4e3e-91e0-df3417c8a936",
   "metadata": {},
   "outputs": [],
   "source": [
    "ENTALPIA_DE_FORMACAO_BENZENO = ufloat(49.0, 0.5)\n",
    "ENTALPIA_DE_FORMACAO_TOLUENO = ufloat(12.0, 0.6)\n",
    "ENTALPIA_DE_FORMACAO_O2 = 0\n",
    "ENTALPIA_DE_FORMACAO_H2O = ufloat(-285.83, 0.04)\n",
    "ENTALPIA_DE_FORMACAO_CO2 = ufloat(-393.5, 0.1)"
   ]
  },
  {
   "cell_type": "markdown",
   "id": "a2449d4e-fa92-41e1-a6da-bf80f802790e",
   "metadata": {},
   "source": [
    "#### Benzeno:"
   ]
  },
  {
   "cell_type": "markdown",
   "id": "76cb8b3c-d27f-43aa-9025-8457adeb1926",
   "metadata": {},
   "source": [
    "Considerando a reação:<br>\n",
    "$ 2 \\: C_6H_6 + 15 \\: O_2 \\rightleftharpoons 6 \\: H_2O + 12 \\: CO_2 $"
   ]
  },
  {
   "cell_type": "code",
   "execution_count": 3,
   "id": "2971d607-08c7-46a9-badd-29ddee7d8879",
   "metadata": {},
   "outputs": [
    {
     "name": "stdout",
     "output_type": "stream",
     "text": [
      "A entalpia de combustão do benzeno é -3267.5+/-0.8 kJ/mol\n"
     ]
    }
   ],
   "source": [
    "# Para 2 mol:\n",
    "entalpia_produtos = 6 * ENTALPIA_DE_FORMACAO_H2O + 12 * ENTALPIA_DE_FORMACAO_CO2\n",
    "entalpia_reagentes = 2 * ENTALPIA_DE_FORMACAO_BENZENO + 15 * ENTALPIA_DE_FORMACAO_O2\n",
    "entalpia_combustao_benzeno_2 = entalpia_produtos - entalpia_reagentes\n",
    "# Para 1 mol:\n",
    "entalpia_combustao_benzeno = entalpia_combustao_benzeno_2/2\n",
    "\n",
    "print(f'A entalpia de combustão do benzeno é {entalpia_combustao_benzeno} kJ/mol')"
   ]
  },
  {
   "cell_type": "markdown",
   "id": "a55c9bda-4ca2-4957-9b6f-ed3ef7faf270",
   "metadata": {},
   "source": [
    "Nota-se que este valor condiz com a literatura. De acordo com [5]: $ \\Delta H_c = -3267.5 \\pm 0.42 kJ/mol$"
   ]
  },
  {
   "cell_type": "markdown",
   "id": "948cd224-b915-41bf-819d-f2170a2acd4c",
   "metadata": {},
   "source": [
    "#### Tolueno:"
   ]
  },
  {
   "cell_type": "markdown",
   "id": "9a29534b-7357-42d3-9dae-7606202477a2",
   "metadata": {},
   "source": [
    "Considerando a reação:<br>\n",
    "$ C_6 H_5 CH_3 + 9\\: O_2 \\rightleftharpoons 7\\: CO_2 + 4\\: H_2O $"
   ]
  },
  {
   "cell_type": "code",
   "execution_count": 4,
   "id": "92026734-840f-4938-8777-db01bbd69f46",
   "metadata": {},
   "outputs": [
    {
     "name": "stdout",
     "output_type": "stream",
     "text": [
      "A entalpia de combustão do tolueno é -3909.8+/-0.9 kJ/mol\n"
     ]
    }
   ],
   "source": [
    "# Para 1 mol:\n",
    "entalpia_produtos = 4 * ENTALPIA_DE_FORMACAO_H2O + 7 * ENTALPIA_DE_FORMACAO_CO2\n",
    "entalpia_reagentes = 1 * ENTALPIA_DE_FORMACAO_TOLUENO + 9 * ENTALPIA_DE_FORMACAO_O2\n",
    "entalpia_combustao_tolueno = entalpia_produtos - entalpia_reagentes\n",
    "\n",
    "print(f'A entalpia de combustão do tolueno é {entalpia_combustao_tolueno} kJ/mol')"
   ]
  },
  {
   "cell_type": "markdown",
   "id": "63ff072c-0aec-48de-9907-15f99c7d4343",
   "metadata": {},
   "source": [
    "Nota-se que este valor também condiz com a literatura. De acordo com [5]: $ \\Delta H_c = -3920. \\pm 20 $ kJ/mol"
   ]
  },
  {
   "cell_type": "markdown",
   "id": "9553beb9-d89d-4adb-9efb-21ead399a1ca",
   "metadata": {},
   "source": [
    "#### Mistura:"
   ]
  },
  {
   "cell_type": "markdown",
   "id": "4df403ee-7959-4f9b-837f-bca8d8e01b06",
   "metadata": {},
   "source": [
    "A partir da reação de combustão da mistura: <br>\n",
    "$ 0.8 \\: C_6 H_5 CH_3 + 0.4 \\: C_6H_6 + 20.4 \\: O_2 \\rightleftharpoons 4.4 \\: H_2O + 8 \\: CO_2 $ <br>"
   ]
  },
  {
   "cell_type": "code",
   "execution_count": 5,
   "id": "52fae778-b378-4f12-8eb7-f023a5a0f985",
   "metadata": {},
   "outputs": [
    {
     "name": "stdout",
     "output_type": "stream",
     "text": [
      "A entalpia de combustão da mistura é -3695.7+/-0.8 kJ/mol\n"
     ]
    }
   ],
   "source": [
    "# Para 1.2 mol de mistura:\n",
    "entalpia_produtos = 4.4 * ENTALPIA_DE_FORMACAO_H2O + 8 * ENTALPIA_DE_FORMACAO_CO2\n",
    "entalpia_reagentes = 0.8 * ENTALPIA_DE_FORMACAO_TOLUENO + 0.4 * ENTALPIA_DE_FORMACAO_BENZENO + 20.4 * ENTALPIA_DE_FORMACAO_O2\n",
    "entalpia_combustao_mistura_12 = entalpia_produtos - entalpia_reagentes\n",
    "# Para 1 mol:\n",
    "entalpia_combustao_mistura = entalpia_combustao_mistura_12/1.2\n",
    "\n",
    "print(f'A entalpia de combustão da mistura é {entalpia_combustao_mistura} kJ/mol')"
   ]
  },
  {
   "cell_type": "markdown",
   "id": "a7c9c8cc-5d28-4696-87bb-f80d92ade16a",
   "metadata": {},
   "source": [
    "#### Portanto, concluímos que, para 1 mol de mistura, podemos fornecer 3696 kJ de energia para o ciclo de Rankhine."
   ]
  },
  {
   "cell_type": "markdown",
   "id": "dddb6213-9d79-4199-b6f0-612ba949084e",
   "metadata": {},
   "source": [
    "### 2) Cálculo da variação de entropia "
   ]
  },
  {
   "cell_type": "markdown",
   "id": "4972b223-5392-460f-b210-7aa9453455f5",
   "metadata": {},
   "source": [
    "#### Entropias dos compostos (retiradas de https://www.nist.gov/):"
   ]
  },
  {
   "cell_type": "code",
   "execution_count": 6,
   "id": "87820250-d6a7-460e-850d-4cfda1d2fd29",
   "metadata": {},
   "outputs": [],
   "source": [
    "ENTROPIA_BENZENO = -24.084\n",
    "ENTROPIA_TOLUENO = -42.900\n",
    "ENTROPIA_O2 = 205.01\n",
    "ENTROPIA_H2O = 6.5773\n",
    "ENTROPIA_CO2 = 120.43"
   ]
  },
  {
   "cell_type": "markdown",
   "id": "d5e6f238-9cd9-4d55-ae4a-ff3800472670",
   "metadata": {},
   "source": [
    "#### Benzeno:"
   ]
  },
  {
   "cell_type": "markdown",
   "id": "282c8d26-03c2-40e3-a1a9-030744755777",
   "metadata": {},
   "source": [
    "Considerando a reação:<br>\n",
    "$ 2 \\: C_6H_6 + 15 \\: O_2 \\rightleftharpoons 6 \\: H_2O + 12 \\: CO_2 $"
   ]
  },
  {
   "cell_type": "code",
   "execution_count": 7,
   "id": "28b73e1b-24b9-4c41-bdaa-7438614a58ae",
   "metadata": {},
   "outputs": [
    {
     "name": "stdout",
     "output_type": "stream",
     "text": [
      "A variação de entropia da combustão do benzeno é -771.179 J/mol K\n"
     ]
    }
   ],
   "source": [
    "# Para 2 mol:\n",
    "entropia_produtos = (6 * ENTROPIA_H2O) + (12 * ENTROPIA_CO2)\n",
    "entropia_reagentes = (2 * ENTROPIA_BENZENO) + (15 * ENTROPIA_O2)\n",
    "entropia_combustao_benzeno_2 = entropia_produtos - entropia_reagentes\n",
    "# Para 1 mol:\n",
    "entropia_combustao_benzeno = entropia_combustao_benzeno_2/2\n",
    "\n",
    "print(f'A variação de entropia da combustão do benzeno é {np.round(entropia_combustao_benzeno,3)} J/mol K')"
   ]
  },
  {
   "cell_type": "markdown",
   "id": "ffd4bd47-ae25-4f1c-b3cd-411b16a85973",
   "metadata": {},
   "source": [
    "#### Tolueno:"
   ]
  },
  {
   "cell_type": "markdown",
   "id": "56d2003b-26ce-4157-a84b-fe22d34dd24f",
   "metadata": {},
   "source": [
    "Considerando a reação:<br>\n",
    "$ C_6 H_5 CH_3 + 9\\: O_2 \\rightleftharpoons 7\\: CO_2 + 4\\: H_2O $"
   ]
  },
  {
   "cell_type": "code",
   "execution_count": 8,
   "id": "b70e1996-2611-405d-b302-bc267458b4d0",
   "metadata": {},
   "outputs": [
    {
     "name": "stdout",
     "output_type": "stream",
     "text": [
      "A variação da entropia de combustão do tolueno é -932.871 J/mol K\n"
     ]
    }
   ],
   "source": [
    "# Para 1 mol:\n",
    "entropia_produtos = (4 * ENTROPIA_H2O) + (7 * ENTROPIA_CO2)\n",
    "entropia_reagentes = (1 * ENTROPIA_TOLUENO) + (9 * ENTROPIA_O2)\n",
    "entropia_combustao_tolueno = entropia_produtos - entropia_reagentes\n",
    "\n",
    "print(f'A variação da entropia de combustão do tolueno é {np.round(entropia_combustao_tolueno, 3)} J/mol K')"
   ]
  },
  {
   "cell_type": "markdown",
   "id": "830d3ac6-ef17-4b5e-b53a-05707765dc6c",
   "metadata": {},
   "source": [
    "#### Mistura:"
   ]
  },
  {
   "cell_type": "markdown",
   "id": "e6bc5f5f-cbda-4dd0-ad5f-3fa23e203490",
   "metadata": {},
   "source": [
    "A partir da reação de combustão da mistura: <br>\n",
    "$ 0.8 \\: C_6 H_5 CH_3 + 0.4 \\: C_6H_6 + 20.4 \\: O_2 \\rightleftharpoons 4.4 \\: H_2O + 8 \\: CO_2 $ <br>"
   ]
  },
  {
   "cell_type": "code",
   "execution_count": 9,
   "id": "1d9ac033-d1f9-4731-9e72-7bf2497c7068",
   "metadata": {},
   "outputs": [
    {
     "name": "stdout",
     "output_type": "stream",
     "text": [
      "A variação da entropia de combustão da mistura é -2621.559 J/mol K\n"
     ]
    }
   ],
   "source": [
    "# Para 1.2 mol de mistura:\n",
    "entropia_produtos = (4.4 * ENTROPIA_H2O) + (8 * ENTROPIA_CO2)\n",
    "entropia_reagentes = (0.8 * ENTROPIA_TOLUENO) + (0.4 * ENTROPIA_BENZENO) + (20.4 * ENTROPIA_O2)\n",
    "entropia_combustao_mistura_12 = entropia_produtos - entropia_reagentes\n",
    "# Para 1 mol:\n",
    "entropia_combustao_mistura = entropia_combustao_mistura_12/1.2\n",
    "\n",
    "print(f'A variação da entropia de combustão da mistura é {np.round(entropia_combustao_mistura, 3)} J/mol K')"
   ]
  },
  {
   "cell_type": "markdown",
   "id": "7a9a8126-11b8-4ff8-9e26-d128a1962c90",
   "metadata": {},
   "source": [
    "### Energia de Gibbs:"
   ]
  },
  {
   "cell_type": "markdown",
   "id": "a84aee73-8560-4185-a544-e022030808c0",
   "metadata": {},
   "source": [
    "Energia de Gibbs é dada por:<br>\n",
    "$\\Delta G = \\Delta H - T \\Delta S$"
   ]
  },
  {
   "cell_type": "markdown",
   "id": "9d681c2a-08a3-45a6-acb6-8bb27a92ac5c",
   "metadata": {},
   "source": [
    "Já calculamos que $\\Delta H = -3695.7\\pm 0.8$ kJ/mol e que $\\Delta S = -2621.559$ J/mol K ou $\\Delta S = -2.622$ kJ/mol, e estamos considerando a temperatura de 298 K, logo:"
   ]
  },
  {
   "cell_type": "code",
   "execution_count": 10,
   "id": "ef8c7f21-0d99-45a5-bb98-d9f476eb69e6",
   "metadata": {},
   "outputs": [],
   "source": [
    "T = 298\n",
    "gibbs_combustao_banzeno = entalpia_combustao_benzeno - 298 * 1e-3 * entropia_combustao_benzeno \n",
    "gibbs_combustao_tolueno = entalpia_combustao_tolueno - 298 * 1e-3 * entropia_combustao_tolueno\n",
    "gibbs_combustao_mistura = entalpia_combustao_mistura - 298 * 1e-3 * entropia_combustao_mistura"
   ]
  },
  {
   "cell_type": "code",
   "execution_count": 11,
   "id": "4f8190b0-4d0d-40e1-a7aa-293ce9aa08ef",
   "metadata": {},
   "outputs": [
    {
     "name": "stdout",
     "output_type": "stream",
     "text": [
      "A energia livre de Gibbs da reação de combustão do benzeno é -3037.7+/-0.8 kJ\n",
      "\n",
      "A energia livre de Gibbs da reação de combustão do tolueno é -3631.8+/-0.9 kJ\n",
      "\n",
      "A energia livre de Gibbs da reação de combustão da mistura é -2914.5+/-0.8 kJ\n",
      "\n"
     ]
    }
   ],
   "source": [
    "print(f'A energia livre de Gibbs da reação de combustão do benzeno é {gibbs_combustao_banzeno} kJ')\n",
    "print()\n",
    "print(f'A energia livre de Gibbs da reação de combustão do tolueno é {gibbs_combustao_tolueno} kJ')\n",
    "print()\n",
    "print(f'A energia livre de Gibbs da reação de combustão da mistura é {gibbs_combustao_mistura} kJ')\n",
    "print()"
   ]
  },
  {
   "cell_type": "markdown",
   "id": "c89969ee-d0f1-467b-a61b-80a7f119690c",
   "metadata": {},
   "source": [
    "#### Observa-se que a enrgia livre de Gibbis é negativa para todas as reações. Isso indica a espontaneidade da reação, ou seja, ambos os reagentes são inflamáveis."
   ]
  },
  {
   "cell_type": "markdown",
   "id": "a3458c68-1bdd-4eb9-abc6-067c7de9d62e",
   "metadata": {
    "tags": []
   },
   "source": [
    "entropia do benzeno: https://webbook.nist.gov/cgi/fluid.cgi?T=+298&PLow=0.9&PHigh=1.1&PInc=&Digits=5&ID=C71432&Action=Load&Type=IsoTherm&TUnit=K&PUnit=atm&DUnit=mol%2Fl&HUnit=kJ%2Fmol&WUnit=m%2Fs&VisUnit=uPa*s&STUnit=N%2Fm&RefState=DEF\n",
    "\n",
    "entropia O2:https://webbook.nist.gov/cgi/fluid.cgi?T=+298&PLow=1&PHigh=1&PInc=&Digits=5&ID=C7782447&Action=Load&Type=IsoTherm&TUnit=K&PUnit=atm&DUnit=mol%2Fl&HUnit=kJ%2Fmol&WUnit=m%2Fs&VisUnit=uPa*s&STUnit=N%2Fm&RefState=DEF\n",
    "\n",
    "entropia CO2:https://webbook.nist.gov/cgi/fluid.cgi?T=298&PLow=1&PHigh=1&PInc=&Digits=5&ID=C124389&Action=Load&Type=IsoTherm&TUnit=K&PUnit=atm&DUnit=mol%2Fl&HUnit=kJ%2Fmol&WUnit=m%2Fs&VisUnit=uPa*s&STUnit=N%2Fm&RefState=DEF"
   ]
  },
  {
   "cell_type": "markdown",
   "id": "349d1700-c149-48b4-9259-316108b81295",
   "metadata": {},
   "source": [
    "## Referências"
   ]
  },
  {
   "cell_type": "markdown",
   "id": "5a453a01-88ab-452f-a9cd-f00b7484b08c",
   "metadata": {},
   "source": [
    "* 3) https://en.wikipedia.org/wiki/Benzene_(data_page) \n",
    "\n",
    "* 4) benzeno: https://webbook.nist.gov/cgi/inchi?ID=C71432&Mask=2#Thermo-Condensed\n",
    "* 5) entalpia de combustão benzeno: https://webbook.nist.gov/cgi/cbook.cgi?ID=C71432&Type=HCOMBL#HCOMBL\n",
    "\n",
    "* 6) água: https://webbook.nist.gov/cgi/cbook.cgi?ID=C7732185&Mask=2\n",
    "    \n",
    "* 7) CO2:https://webbook.nist.gov/cgi/cbook.cgi?ID=C124389&Mask=1 "
   ]
  },
  {
   "cell_type": "markdown",
   "id": "1bd249c6-a076-4e01-8367-e2d24ae936e0",
   "metadata": {
    "jp-MarkdownHeadingCollapsed": true,
    "tags": []
   },
   "source": [
    "#### Mateiral para referência no Livro McQuarrie (Physical Chemistry: A Molecular Approach)\n",
    "\n",
    "Como trabalhar com entaplia:\n",
    "seções - (19-9 a 19-12)\n",
    "\n",
    "Como calcular entalpia em sistemas termodinâmicos:\n",
    "seções - (21-1 a 21-5)\n",
    "\n",
    "Como calcular a enttropia de uma reação quimica a partir de entropias padrão:\n",
    "seções - (21-9)\n",
    "\n",
    "Variação de entalpia, entropia e energia livre de Gibbs em função da temperatura:\n",
    "seções - (21-1 a 22-7)\n",
    "\n",
    "Potênciais termodinâmicos:\n",
    "seções - (22)"
   ]
  }
 ],
 "metadata": {
  "kernelspec": {
   "display_name": "ilumpy",
   "language": "python",
   "name": "ilumpy"
  },
  "language_info": {
   "codemirror_mode": {
    "name": "ipython",
    "version": 3
   },
   "file_extension": ".py",
   "mimetype": "text/x-python",
   "name": "python",
   "nbconvert_exporter": "python",
   "pygments_lexer": "ipython3",
   "version": "3.9.7"
  }
 },
 "nbformat": 4,
 "nbformat_minor": 5
}
