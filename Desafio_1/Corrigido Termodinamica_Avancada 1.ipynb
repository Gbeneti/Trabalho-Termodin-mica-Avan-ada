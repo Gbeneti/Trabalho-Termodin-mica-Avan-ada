{
 "cells": [
  {
   "cell_type": "code",
   "execution_count": 1,
   "id": "59667b55-ddde-4853-bc62-39820ad2aad7",
   "metadata": {
    "jupyter": {
     "source_hidden": true
    },
    "tags": []
   },
   "outputs": [],
   "source": [
    "from IPython.display import Markdown"
   ]
  },
  {
   "cell_type": "markdown",
   "id": "c29ef11f-1c26-41d1-b60b-262cae229078",
   "metadata": {},
   "source": [
    "# Termodinâmica Avançada.\n",
    "## Desafio 1 : Mistura de Tolueno e Benzeno"
   ]
  },
  {
   "cell_type": "markdown",
   "id": "ee70f313-5d2c-4895-a71a-5589277791bc",
   "metadata": {},
   "source": [
    "### Critéiros"
   ]
  },
  {
   "cell_type": "markdown",
   "id": "1d90d61a-31c6-471a-9d87-abca133b192d",
   "metadata": {},
   "source": [
    "Os critérios para a escolha desta mistura são principalmente:\n",
    "\n",
    "+ Entalpia\n",
    "\n",
    "+ Diagrama de fases\n"
   ]
  },
  {
   "cell_type": "markdown",
   "id": "c6049592-5451-45e3-92bd-0e5b0a1e2053",
   "metadata": {},
   "source": [
    "### Entalpia:\n"
   ]
  },
  {
   "cell_type": "markdown",
   "id": "06c19dea-e3e6-4429-8e34-450714f7da82",
   "metadata": {
    "tags": []
   },
   "source": [
    "### $\\Delta H = \\Delta U + W$"
   ]
  },
  {
   "cell_type": "markdown",
   "id": "e876a65b-cdd6-4df3-8120-09cef88e9e3d",
   "metadata": {
    "tags": []
   },
   "source": [
    "A entalpia é um potencial termodinâmico que mede o conteúdo total de energia no sistema a pressão constante. Alguns aspectos da entalpia são úteis termos de prever as propriedades de um combustível, principalmente a entalpia de combustão, que informa a quantidade de calor que será liberada quando a substância sofrer combustão, na presença de oxigênio. No caso das nossas substâncias selecionadas para a mistura, as entalpias de combustão são:"
   ]
  },
  {
   "cell_type": "markdown",
   "id": "6a4dcbcc-1c3d-4260-b21c-c5dbc279b4da",
   "metadata": {},
   "source": [
    "\n",
    "#### Composto 1:\n",
    "Tolueno: ΔH = - 3910 KJ/mol (Ref 2)\n",
    "#### Composto 2:\n",
    "Benzeno: ΔH = - 3273 KJ/mol  (Ref 3)\n"
   ]
  },
  {
   "cell_type": "markdown",
   "id": "47216327-0b59-46e0-a0c5-a2c4e27bf529",
   "metadata": {},
   "source": [
    "A primeira coisa a notar é que ambas as entalpias são negativas, o que significa que a reação de combustão libera mais energia do que absorve. Isso é necessário pois a combustão da mistura será utilizada para fornecer energia para o ciclo de Rankine. Além disso, a partir das entalpias individuais, podemos calcular a entalpia da mistura\n",
    "\n",
    "(O tolueno e benzeno não são bons combustíveis na prática mas, tendo em vista o objetivo do trabalho, atende aos requisitos, o que será discutido mais para frente)"
   ]
  },
  {
   "cell_type": "markdown",
   "id": "495f8f32-0c51-4b68-9bea-666960e093a2",
   "metadata": {},
   "source": [
    "### Diagrama de Fases"
   ]
  },
  {
   "cell_type": "markdown",
   "id": "743d4021-0411-44d8-b8c1-9566cd7574e2",
   "metadata": {
    "tags": []
   },
   "source": [
    "<dt>\n",
    "<center>\n",
    "<img src=\"benzeno_tolueno_diagram.PNG\" style=\"height: 600px;\"/>\n",
    "</center>\n",
    "</dt>"
   ]
  },
  {
   "cell_type": "markdown",
   "id": "8c9727da-4f84-4a75-b327-761121325a08",
   "metadata": {
    "tags": []
   },
   "source": [
    "<center>\n",
    "    fig 1 - Diagrama de Fases Tolueno-Benzeno (Referência 1)\n",
    "<center>"
   ]
  },
  {
   "cell_type": "markdown",
   "id": "b31cd2c3-f72e-4e0f-9f26-f9740d3358e5",
   "metadata": {},
   "source": [
    "Outro critério para escolhermos a mistura, é o diagrama de fases, o qual contém muitas informações úteis sobre a mistura, como por exemplo: \n",
    "\n",
    "+ Temperatura (K)\n",
    "\n",
    "+ Concentração (mol)\n",
    "\n",
    "+ Transição gasoso-líquido\n",
    "\n",
    "Podemos ver que no eixo X, temos a concentração dos elementos, que podem variar tanto entre 100% de touleno, 50%, etc. Portanto, temos uma amplo cenário de concentrações no qual podemos trabalhar.\n",
    "\n",
    "No diagrama, podemos ver também uma clara separação da mistura entre líquido e gasoso que corta o centro. Tal fenômeno (decorrente da lei de Raoult) pode ter grande aplicação e praticidade caso em algum momento tenha a necessidade de separar novamente as duas moléculas."
   ]
  },
  {
   "cell_type": "markdown",
   "id": "e48a7414-8773-445f-a3c5-83380f732de9",
   "metadata": {},
   "source": [
    "Escolhemos utilizar uma concentração de 2 para 1 de tolueno e benzeno respectivamente. Tal concentração foi encontrada através do balançeamento da reação química.\n",
    "\n",
    "0,8 C6 H5 CH3 + 0,4 C6H6 + 20,4 O2 --> 4,4 H2O + 8CO2"
   ]
  },
  {
   "cell_type": "markdown",
   "id": "fafcb920-0ccd-4b27-a300-f938a1d6f1ff",
   "metadata": {},
   "source": [
    "### Cálculo da Entalpia de combustão"
   ]
  },
  {
   "cell_type": "code",
   "execution_count": 4,
   "id": "4b237a0e-cab0-497e-957f-b0607338d447",
   "metadata": {},
   "outputs": [
    {
     "name": "stdout",
     "output_type": "stream",
     "text": [
      "A entalpia de conbustão da reação é: -5678.416666666666 kJ/mol\n"
     ]
    }
   ],
   "source": [
    "entalpia_produtos = 20.4*(-393.5) + 4.4*(285.83) #água(l) + CO2(g)\n",
    "entalpia_reagentes = 0.8*(49.26) + 0.4*(12.36) + 20.4*0 #tolueno(l) + benzeno(l) + O2(g), baseado no gráfico de fase\n",
    "#balanceamento estequiométrico\n",
    "\n",
    "#condições = 298.15K, 1atm. Durante a atividades, até o momento, consideramos a pressão constante.\n",
    "#no futuro, é possível corrigir para as condições de temperatura necessárias \n",
    "\n",
    "entalpia_combustao = entalpia_produtos - entalpia_reagentes #entalpia de combustão para 1.2 mol\n",
    "entalpia_combustao_1_mol = (entalpia_combustao/(1.2))\n",
    "print('A entalpia de conbustão da reação é:', entalpia_combustao_1_mol, 'kJ/mol')\n",
    "\n",
    "# Referências de 3 a 7"
   ]
  },
  {
   "cell_type": "markdown",
   "id": "f28890ff-374b-45d7-99aa-06f64b601e59",
   "metadata": {
    "tags": []
   },
   "source": [
    "### Observação:\n",
    "Apesar de ser possível, por causa do que foi discutido sobre entalpia,  utilizar o benzeno e o tolueno como combustíveis, é importante considerar que essas substâncias na prática não estão presentes nessa aplicação, por algumas razões:\n",
    "+ Baixa densidade energética: Comparado com combustíveis mais comumente utilizados, o benzeno e tolueno ambos são menos eficientes por terem densidades energáticas mais baixas.\n",
    "+ Volatilidade: Por terem baixos pontos de ebulição, isso pode dificultar o armazenamento desses compostos, por exemplo. A nível industrial isso pode ser um problema.\n",
    "+ Toxicidade: O benzeno é carcinogênico, ou seja, causa câncer. Já o tolueno casa danos neurológicos (encefalopatia tóxica) <dt>\n",
    "No entanto, para os fins desse trabalho, o critério de viabilidade de aplicação não foi considerado, já que o objetivo é estudar um possível sistema termodinâmico e aplicar os conceitos da disciplina, e não é necessário montar um setup que possa de fato ser usado em uma usina termoelétrica, por exemplo."
   ]
  },
  {
   "cell_type": "markdown",
   "id": "9804b118-c708-4a0b-9bf2-f6bca8e8a989",
   "metadata": {},
   "source": [
    "## Referências"
   ]
  },
  {
   "cell_type": "markdown",
   "id": "ff1f1418-8742-4633-9be8-41f59e7e8b6a",
   "metadata": {},
   "source": [
    "1)https://chem.libretexts.org/Bookshelves/Physical_and_Theoretical_Chemistry_Textbook_Maps/DeVoes_Thermodynamics_and_Chemistry/13%3A_The_Phase_Rule_and_Phase_Diagrams/13.02%3A__Phase_Diagrams-_Binary_Systems \n",
    "\n",
    "2)https://webbook.nist.gov/cgi/cbook.cgi?ID=C108883&Type=HCOMBL\n",
    "3)https://en.wikipedia.org/wiki/Benzene_(data_page)\n",
    "4)tolueno: https://atct.anl.gov/Thermochemical%20Data/version%201.118/species/?species_number=848\n",
    "5)benzeno: https://atct.anl.gov/Thermochemical%20Data/version%201.118/species/?species_number=333\n",
    "6)água: https://webbook.nist.gov/cgi/cbook.cgi?ID=C7732185&Mask=2\n",
    "7)CO2:https://webbook.nist.gov/cgi/cbook.cgi?ID=C124389&Mask=1 "
   ]
  },
  {
   "cell_type": "markdown",
   "id": "6efffaaf-379e-4340-b80c-f0797265ba14",
   "metadata": {},
   "source": [
    "## Avaliação"
   ]
  },
  {
   "cell_type": "markdown",
   "id": "46da1eec-28a9-4839-b728-73ea3470ee85",
   "metadata": {},
   "source": [
    "- O texto está bem escrito, no entanto, uma revisão gramatical poderia encontrar alguns pontos a serem corrigidos. Por exemplo, uma das primeiras coisas que se observa ao abrir o notebook é \"Critéiros\" em destaque; além de outros pontos que são observados ao decorrer do texto.\n",
    "- O texto é finalizado com uma seção de referências, as quais poderiam ser melhor organizadas. Além disso, houve um problema com a imagem \"fig 1\", a qual não foi enviada na pasta junto ao arquivo; então para realizar a avaliação acessamos a referência 1, esta que estava na legenda da imagem. Não obstante, as referências utilizadas são de fontes confiáveis e de renome.\n",
    "- Em \"Observações\" constatamos alguns erros de conceito, como por exemplo o que é eficiência. A baixa densidade energética de um combustível implica em maior consumo do mesmo para gerar a mesma quantidade de entalpia que um outro combustível com maior densidade energética; mas isso não diz respeito ao como essa entalpia vai ser transformada em trabalho ou o quanto de energia vai ser propagada no ambiente, assim sim diminuindo a eficiência. Outro conceito que vale a pena revisar é a volatilidade, esta que foi tratada como uma consequência direta do ponto de ebulição. Sim, são inversamente proporcionais; no entanto um não é consequência do outro.\n",
    "- É importante também destacar a tentativa de estimar a entalpia de combustão da mistura, mesmo que um pouco ambígua por ser citada durante o texto como \"entalpia de combustão\" ou \"entalpia da mistura\", foi estimada com o cálculo estequiométrico da combustão dos compostos juntos, dada uma proporção escolhida com base no diagrama de fases. Vale notar que o cálculo estequiométrico, feito no fim da seção \"Diagrama de Fases\", resume os compostos por meio dos átomos que os compõem e, para melhorar a representação deles, poderia ser usado algum identificador único (o nome, o desenho ou um código disponível no PubChem).\n",
    "- Durante o desenvolvimento do texto, com exceção dos pontos citados, a dupla faz um bom desenvolvimento dos conceitos usados como critérios para a escolha da mistura, contendo as informações necessárias e requeridas para tal e argumenta não apenas com a visão de cumprir com o atual desafio, mas também com pensamento nas próximas etapas. Logo, a escolha, com suas devidas ressalvas citadas no texto, foi bem argumentada."
   ]
  },
  {
   "cell_type": "markdown",
   "id": "b74de0c2-cd59-4743-98e7-d6a7b60ee64c",
   "metadata": {},
   "source": [
    "AJP: Os autores apresentaram uma justificativa para a escolha dos compostos, como solicitado no desafio. O diagrama de fase também foi apresentado, porém superficialmente discutido. Acho que o conceito de entalpia poderia ser discutido em mais profundidade."
   ]
  }
 ],
 "metadata": {
  "kernelspec": {
   "display_name": "Python 3 (ipykernel)",
   "language": "python",
   "name": "python3"
  },
  "language_info": {
   "codemirror_mode": {
    "name": "ipython",
    "version": 3
   },
   "file_extension": ".py",
   "mimetype": "text/x-python",
   "name": "python",
   "nbconvert_exporter": "python",
   "pygments_lexer": "ipython3",
   "version": "3.9.13"
  }
 },
 "nbformat": 4,
 "nbformat_minor": 5
}
