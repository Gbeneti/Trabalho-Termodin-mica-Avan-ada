{
 "cells": [
  {
   "cell_type": "markdown",
   "id": "5aa726fc-c35d-4d86-9375-5f8778ce56ec",
   "metadata": {},
   "source": [
    "Ciclo de Rankine: O ciclo de rankine ideal é um tipo de ciclo termodinâmico que ignora a irreversibilidade termodinâmica dos sistemas. Ele converte a expansão de vapor de um fluido em energia mecânica. Inicialmente, tem-se uma bomba que envia o fluido em altas pressões para um boiler. Nesse boiler, o líquido, que acaba por evaporar, absorve energia proveninente de um combustível (fonte quente). Assim, o fluido no estado de vapor e em altas pressões, é guiado para uma turbina. Nessa turbina, a pressão do vapor faz com que esta se mova (coversão em energia mecânica), de modo que esse movimento esteja conectado a um gerador elétrico (conversão em energia elétrica). Nota-se que grande parte da energia e pressão do fluido é perdida na conversão para energia mecânica. Após passar pela turbina, o fluido, ainda na forma de vapor (apesar de que é quase líquido) passa por um condensador, de modo em que seja submetido a pressões atmosféricas e temperatura ambiente. Nesse sentido, o fluido é, então, novamente enviado para a bomba, o que gera o reinicio do ciclo. Nota-se que o uso do Ciclo de Rankine ideal se aplica aqui pelo fato de ser isentrópico (sem variação de entropia). Caso não fosse considerado o ideal, deveria-se realizar medições experimentais da variação de entorpia."
   ]
  },
  {
   "cell_type": "markdown",
   "id": "2463af98-60b6-4e86-921e-57ec0429bdfa",
   "metadata": {},
   "source": [
    "Ciclo de Carnot x Ciclo de Rankine: No Ciclo de Carnot o rendimento teórico é sempre de [VERIFICAR] na conversão para energia mecânica. Já o ciclo de Rankine, baseado na diferença de maior e menor temperatura do sistema e com base em gráficos de temperatura x entropia, pode-se calcular o rendimento do sistema. O rendimento é, de fato, a principal diferença entre os vários sitemas que utilizam o Ciclo de Rankine, o que inclui termoelétricas, usinas nucleares e aplicações fotovoltaicas, por exemplo."
   ]
  },
  {
   "cell_type": "markdown",
   "id": "a41f8e12-8f57-4f61-887a-7a835ff09208",
   "metadata": {},
   "source": [
    "Água e Ciclo de Rankine: No Ciclo de Rankine se pode utilizar uma variedade de fluidos: metanol e CFC são exemplos possíveis. Entretanto, é mais comum que seja utilizado água para o processo. Isso se deve pois a água é uma substância de abundância em meios naturais, barata e alta capacidade calorífica. A alta capacidade calorífica é extremamente interessante principalmente pelo fato de que consegue armazenar uma grande quantidade de energia (dada a alta capacidade calorífica). Assim, consegue transmitir uma grande quantidade de calor da fonte quente para a turbina, além de que pode ser usada no condensador, para condensar o fluido. Uma terceira aplicação, considerando a alta capacidade calorífica, é o fato de que a água pode ser utilizada pra evitar o superaquecimento de núcleos de reatores nucleares."
   ]
  },
  {
   "cell_type": "code",
   "execution_count": null,
   "id": "3454715a-21a8-4e5a-a203-d488e139b7fd",
   "metadata": {},
   "outputs": [],
   "source": []
  }
 ],
 "metadata": {
  "kernelspec": {
   "display_name": "ilumpy",
   "language": "python",
   "name": "ilumpy"
  },
  "language_info": {
   "codemirror_mode": {
    "name": "ipython",
    "version": 3
   },
   "file_extension": ".py",
   "mimetype": "text/x-python",
   "name": "python",
   "nbconvert_exporter": "python",
   "pygments_lexer": "ipython3",
   "version": "3.9.7"
  }
 },
 "nbformat": 4,
 "nbformat_minor": 5
}
