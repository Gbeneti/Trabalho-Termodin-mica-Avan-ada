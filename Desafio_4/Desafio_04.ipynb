{
 "cells": [
  {
   "cell_type": "markdown",
   "id": "58952205-c218-4be5-83af-cdbef39566d9",
   "metadata": {},
   "source": [
    "# DESAFIO 04 - CICLO DE RANKINE"
   ]
  },
  {
   "cell_type": "markdown",
   "id": "431a74f8",
   "metadata": {},
   "source": [
    "Para calcular a energia de nossa combustão, utilizamos a fórumla:\n",
    "\n",
    "\n",
    "$$ \\Delta H = \\Delta U + \\Delta V $$\n",
    "\n",
    "\n",
    "Substituíndo pelos valores encontrados no desafio anterior, vamos ter o seguinte:\n",
    "\n",
    "* pressão(p) = 1 atm\n",
    "* Delta H = 3037.7 kJ/mol      (+/-0.8 kJ/mol)\n",
    "* Delta V = \n",
    "* Delta U = \n"
   ]
  },
  {
   "cell_type": "markdown",
   "id": "c5638187-b84e-4350-994b-9a348c74fa57",
   "metadata": {},
   "source": [
    "### **SOBRE O CICLO**"
   ]
  },
  {
   "cell_type": "markdown",
   "id": "5aa726fc-c35d-4d86-9375-5f8778ce56ec",
   "metadata": {},
   "source": [
    "**Ciclo de Rankine**: O ciclo de rankine ideal é um tipo de ciclo termodinâmico que ignora a irreversibilidade termodinâmica dos sistemas. Ele converte a expansão de vapor de um fluido em energia mecânica. Inicialmente, tem-se uma bomba que envia o fluido em altas pressões para um boiler. Nesse boiler, o líquido, que acaba por evaporar, absorve energia proveninente de um combustível (fonte quente). Assim, o fluido no estado de vapor e em altas pressões, é guiado para uma turbina. Nessa turbina, a pressão do vapor faz com que esta se mova (coversão em energia mecânica), de modo que esse movimento esteja conectado a um gerador elétrico (conversão em energia elétrica). Nota-se que grande parte da energia e pressão do fluido é perdida na conversão para energia mecânica. Após passar pela turbina, o fluido, ainda na forma de vapor (apesar de que é quase líquido) passa por um condensador, de modo em que seja submetido a pressões atmosféricas e temperatura ambiente. Nesse sentido, o fluido é, então, novamente enviado para a bomba, o que gera o reinicio do ciclo. Nota-se que o uso do Ciclo de Rankine ideal se aplica aqui pelo fato de ser isentrópico (sem variação de entropia). Caso não fosse considerado o ideal, deveria-se realizar medições experimentais da variação de entorpia."
   ]
  },
  {
   "cell_type": "markdown",
   "id": "2463af98-60b6-4e86-921e-57ec0429bdfa",
   "metadata": {},
   "source": [
    "**Ciclo de Carnot x Ciclo de Rankine:** No Ciclo de Carnot o rendimento teórico é sempre de [VERIFICAR] na conversão para energia mecânica. Já o ciclo de Rankine, baseado na diferença de maior e menor temperatura do sistema e com base em gráficos de temperatura x entropia, pode-se calcular o rendimento do sistema. O rendimento é, de fato, a principal diferença entre os vários sitemas que utilizam o Ciclo de Rankine, o que inclui termoelétricas, usinas nucleares e aplicações fotovoltaicas, por exemplo."
   ]
  },
  {
   "cell_type": "markdown",
   "id": "a41f8e12-8f57-4f61-887a-7a835ff09208",
   "metadata": {},
   "source": [
    "**Água e Ciclo de Rankine:** No Ciclo de Rankine se pode utilizar uma variedade de fluidos: metanol e CFC são exemplos possíveis. Entretanto, é mais comum que seja utilizado água para o processo. Isso se deve pois a água é uma substância de abundância em meios naturais, barata e alta capacidade calorífica. A alta capacidade calorífica é extremamente interessante principalmente pelo fato de que consegue armazenar uma grande quantidade de energia (dada a alta capacidade calorífica). Assim, consegue transmitir uma grande quantidade de calor da fonte quente para a turbina, além de que pode ser usada no condensador, para condensar o fluido. Uma terceira aplicação, considerando a alta capacidade calorífica, é o fato de que a água pode ser utilizada pra evitar o superaquecimento de núcleos de reatores nucleares."
   ]
  },
  {
   "cell_type": "markdown",
   "id": "f424738a-bcbf-4a44-bc8c-6fd5b92d5f2e",
   "metadata": {},
   "source": [
    "##  Anotações para o desafio 04:"
   ]
  },
  {
   "cell_type": "raw",
   "id": "cc79580d-3c85-4072-87bf-8add3e630171",
   "metadata": {},
   "source": [
    "Encontrar o gráfico TEMPERATURA X ENTROPIA\n",
    "ciclo isentrópico -> nao varia a entropia\n",
    "\n",
    "Qual vai ser a quantidade de energia fornecida?\n",
    "    a partir disso, vemos o tanto de água conseguimos aquecer no ciclo\n",
    "    #pergunta: Temos que calcular também a perda de energia em cada uma das etapas do ciclo?\n",
    "    por exemplo: precisamos aquecer a agua com X de energia fornecida pela combustão, a partir disso ela vai entrar no ciclo, durante as outras etapas haverá perda de energia, essa perda vai ter que entrar no cálculo de energia fornecida na etapa inicial de aquecimento? (De acordo com o que entendi, iremos realizar apenas a conversão energética gerada a cada ciclo de funcionamento, para o gerador)\n",
    "    \n",
    "Quanto de enrgia será gerada no final?\n",
    "\n",
    "chegou um valor X após a primeiro ciclo\n",
    "   "
   ]
  },
  {
   "cell_type": "markdown",
   "id": "2168a11a",
   "metadata": {},
   "source": [
    "Vamos aplicar a seguinte integral para encontrar a massa de água necessária:\n",
    "$$ Q = m \\int_{T_0}^{T_f} C_p (T) dT$$\n",
    "\n",
    "    \n",
    "Manipulando a integral para isolar o termo de massa(m), ficamos com:\n",
    "<dt>\n",
    "        \n",
    "$$\\frac{Q}{int} = m$$"
   ]
  },
  {
   "cell_type": "code",
   "execution_count": 1,
   "id": "ac778e36-89e0-43b8-a5f9-3b8eab1b518c",
   "metadata": {},
   "outputs": [],
   "source": [
    "import pandas as pd\n",
    "import matplotlib.pyplot as plt\n",
    "plt.style.use('seaborn-bright')"
   ]
  },
  {
   "cell_type": "code",
   "execution_count": 2,
   "id": "dc863953-41a9-4565-8234-b481d736d441",
   "metadata": {},
   "outputs": [
    {
     "data": {
      "text/html": [
       "<div>\n",
       "<style scoped>\n",
       "    .dataframe tbody tr th:only-of-type {\n",
       "        vertical-align: middle;\n",
       "    }\n",
       "\n",
       "    .dataframe tbody tr th {\n",
       "        vertical-align: top;\n",
       "    }\n",
       "\n",
       "    .dataframe thead th {\n",
       "        text-align: right;\n",
       "    }\n",
       "</style>\n",
       "<table border=\"1\" class=\"dataframe\">\n",
       "  <thead>\n",
       "    <tr style=\"text-align: right;\">\n",
       "      <th></th>\n",
       "      <th>T</th>\n",
       "      <th>Cvc</th>\n",
       "      <th>Cvb</th>\n",
       "    </tr>\n",
       "  </thead>\n",
       "  <tbody>\n",
       "    <tr>\n",
       "      <th>0</th>\n",
       "      <td>0.01</td>\n",
       "      <td>75.981</td>\n",
       "      <td>76.026</td>\n",
       "    </tr>\n",
       "    <tr>\n",
       "      <th>1</th>\n",
       "      <td>10.00</td>\n",
       "      <td>75.505</td>\n",
       "      <td>75.586</td>\n",
       "    </tr>\n",
       "    <tr>\n",
       "      <th>2</th>\n",
       "      <td>20.00</td>\n",
       "      <td>74.893</td>\n",
       "      <td>75.386</td>\n",
       "    </tr>\n",
       "    <tr>\n",
       "      <th>3</th>\n",
       "      <td>25.00</td>\n",
       "      <td>74.548</td>\n",
       "      <td>75.336</td>\n",
       "    </tr>\n",
       "    <tr>\n",
       "      <th>4</th>\n",
       "      <td>30.00</td>\n",
       "      <td>74.181</td>\n",
       "      <td>75.309</td>\n",
       "    </tr>\n",
       "    <tr>\n",
       "      <th>5</th>\n",
       "      <td>40.00</td>\n",
       "      <td>73.392</td>\n",
       "      <td>75.300</td>\n",
       "    </tr>\n",
       "    <tr>\n",
       "      <th>6</th>\n",
       "      <td>50.00</td>\n",
       "      <td>72.540</td>\n",
       "      <td>75.334</td>\n",
       "    </tr>\n",
       "    <tr>\n",
       "      <th>7</th>\n",
       "      <td>60.00</td>\n",
       "      <td>71.644</td>\n",
       "      <td>75.399</td>\n",
       "    </tr>\n",
       "    <tr>\n",
       "      <th>8</th>\n",
       "      <td>70.00</td>\n",
       "      <td>70.716</td>\n",
       "      <td>75.491</td>\n",
       "    </tr>\n",
       "    <tr>\n",
       "      <th>9</th>\n",
       "      <td>80.00</td>\n",
       "      <td>69.774</td>\n",
       "      <td>75.611</td>\n",
       "    </tr>\n",
       "    <tr>\n",
       "      <th>10</th>\n",
       "      <td>90.00</td>\n",
       "      <td>68.828</td>\n",
       "      <td>75.763</td>\n",
       "    </tr>\n",
       "    <tr>\n",
       "      <th>11</th>\n",
       "      <td>100.00</td>\n",
       "      <td>67.888</td>\n",
       "      <td>75.950</td>\n",
       "    </tr>\n",
       "    <tr>\n",
       "      <th>12</th>\n",
       "      <td>110.00</td>\n",
       "      <td>66.960</td>\n",
       "      <td>76.177</td>\n",
       "    </tr>\n",
       "    <tr>\n",
       "      <th>13</th>\n",
       "      <td>120.00</td>\n",
       "      <td>66.050</td>\n",
       "      <td>76.451</td>\n",
       "    </tr>\n",
       "    <tr>\n",
       "      <th>14</th>\n",
       "      <td>140.00</td>\n",
       "      <td>64.306</td>\n",
       "      <td>77.155</td>\n",
       "    </tr>\n",
       "    <tr>\n",
       "      <th>15</th>\n",
       "      <td>160.00</td>\n",
       "      <td>62.674</td>\n",
       "      <td>78.107</td>\n",
       "    </tr>\n",
       "    <tr>\n",
       "      <th>16</th>\n",
       "      <td>180.00</td>\n",
       "      <td>61.163</td>\n",
       "      <td>79.360</td>\n",
       "    </tr>\n",
       "    <tr>\n",
       "      <th>17</th>\n",
       "      <td>200.00</td>\n",
       "      <td>59.775</td>\n",
       "      <td>80.996</td>\n",
       "    </tr>\n",
       "    <tr>\n",
       "      <th>18</th>\n",
       "      <td>220.00</td>\n",
       "      <td>58.514</td>\n",
       "      <td>83.137</td>\n",
       "    </tr>\n",
       "    <tr>\n",
       "      <th>19</th>\n",
       "      <td>240.00</td>\n",
       "      <td>57.381</td>\n",
       "      <td>85.971</td>\n",
       "    </tr>\n",
       "    <tr>\n",
       "      <th>20</th>\n",
       "      <td>260.00</td>\n",
       "      <td>56.392</td>\n",
       "      <td>89.821</td>\n",
       "    </tr>\n",
       "    <tr>\n",
       "      <th>21</th>\n",
       "      <td>280.00</td>\n",
       "      <td>55.578</td>\n",
       "      <td>95.285</td>\n",
       "    </tr>\n",
       "    <tr>\n",
       "      <th>22</th>\n",
       "      <td>300.00</td>\n",
       "      <td>55.003</td>\n",
       "      <td>103.600</td>\n",
       "    </tr>\n",
       "    <tr>\n",
       "      <th>23</th>\n",
       "      <td>320.00</td>\n",
       "      <td>54.819</td>\n",
       "      <td>117.780</td>\n",
       "    </tr>\n",
       "    <tr>\n",
       "      <th>24</th>\n",
       "      <td>340.00</td>\n",
       "      <td>55.455</td>\n",
       "      <td>147.880</td>\n",
       "    </tr>\n",
       "    <tr>\n",
       "      <th>25</th>\n",
       "      <td>360.00</td>\n",
       "      <td>59.402</td>\n",
       "      <td>270.310</td>\n",
       "    </tr>\n",
       "  </tbody>\n",
       "</table>\n",
       "</div>"
      ],
      "text/plain": [
       "         T     Cvc      Cvb\n",
       "0     0.01  75.981   76.026\n",
       "1    10.00  75.505   75.586\n",
       "2    20.00  74.893   75.386\n",
       "3    25.00  74.548   75.336\n",
       "4    30.00  74.181   75.309\n",
       "5    40.00  73.392   75.300\n",
       "6    50.00  72.540   75.334\n",
       "7    60.00  71.644   75.399\n",
       "8    70.00  70.716   75.491\n",
       "9    80.00  69.774   75.611\n",
       "10   90.00  68.828   75.763\n",
       "11  100.00  67.888   75.950\n",
       "12  110.00  66.960   76.177\n",
       "13  120.00  66.050   76.451\n",
       "14  140.00  64.306   77.155\n",
       "15  160.00  62.674   78.107\n",
       "16  180.00  61.163   79.360\n",
       "17  200.00  59.775   80.996\n",
       "18  220.00  58.514   83.137\n",
       "19  240.00  57.381   85.971\n",
       "20  260.00  56.392   89.821\n",
       "21  280.00  55.578   95.285\n",
       "22  300.00  55.003  103.600\n",
       "23  320.00  54.819  117.780\n",
       "24  340.00  55.455  147.880\n",
       "25  360.00  59.402  270.310"
      ]
     },
     "execution_count": 2,
     "metadata": {},
     "output_type": "execute_result"
    }
   ],
   "source": [
    "agua = pd.read_csv(r'Cv_agua.txt')\n",
    "agua"
   ]
  },
  {
   "cell_type": "code",
   "execution_count": 3,
   "id": "a9e3d37d-f57f-49b9-9173-374b76fd39f3",
   "metadata": {},
   "outputs": [
    {
     "data": {
      "image/png": "[encoded data removed]",
      "text/plain": [
       "<Figure size 432x288 with 1 Axes>"
      ]
     },
     "metadata": {
      "needs_background": "light"
     },
     "output_type": "display_data"
    }
   ],
   "source": [
    "fig, ax = plt.subplots(1,1)\n",
    "ax.set_title('Calor específico da água')\n",
    "ax.set_xlabel('Temperatura (°C)')\n",
    "ax.set_ylabel('Calor específico J/(mol K)')\n",
    "ax.plot(agua['T'], agua['Cvc'], label = 'Isocórico', linewidth = 1)\n",
    "ax.plot(agua['T'], agua['Cvb'], label = 'Isobárico', linewidth = 1)\n",
    "ax.scatter(agua['T'], agua['Cvc'], marker = '>')\n",
    "ax.scatter(agua['T'], agua['Cvb'], marker = '>')\n",
    "ax.legend()\n",
    "ax.grid('--')\n",
    "plt.savefig('Calor_agua.png',dpi = 200)"
   ]
  },
  {
   "cell_type": "code",
   "execution_count": null,
   "id": "ea1ec483",
   "metadata": {},
   "outputs": [],
   "source": []
  }
 ],
 "metadata": {
  "kernelspec": {
   "display_name": "ilumpy",
   "language": "python",
   "name": "ilumpy"
  },
  "language_info": {
   "codemirror_mode": {
    "name": "ipython",
    "version": 3
   },
   "file_extension": ".py",
   "mimetype": "text/x-python",
   "name": "python",
   "nbconvert_exporter": "python",
   "pygments_lexer": "ipython3",
   "version": "3.9.7"
  }
 },
 "nbformat": 4,
 "nbformat_minor": 5
}
